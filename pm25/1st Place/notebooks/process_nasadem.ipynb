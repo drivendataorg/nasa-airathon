{
 "cells": [
  {
   "cell_type": "code",
   "execution_count": 2,
   "id": "2f98274e-8537-4860-8126-9bef27686779",
   "metadata": {},
   "outputs": [
    {
     "name": "stdout",
     "output_type": "stream",
     "text": [
      "Collecting datashader\n",
      "  Downloading datashader-0.13.0-py2.py3-none-any.whl (15.8 MB)\n",
      "\u001b[K     |████████████████████████████████| 15.8 MB 10.0 MB/s eta 0:00:01\n",
      "\u001b[?25hRequirement already satisfied: xarray>=0.9.6 in /home/ubuntu/anaconda3/envs/nasa_env/lib/python3.9/site-packages (from datashader) (2022.3.0)\n",
      "Requirement already satisfied: scipy in /home/ubuntu/anaconda3/envs/nasa_env/lib/python3.9/site-packages (from datashader) (1.8.0)\n",
      "Collecting numba>=0.51\n",
      "  Downloading numba-0.55.1-1-cp39-cp39-manylinux2014_x86_64.manylinux_2_17_x86_64.whl (3.3 MB)\n",
      "\u001b[K     |████████████████████████████████| 3.3 MB 93.3 MB/s eta 0:00:01\n",
      "\u001b[?25hCollecting pyct>=0.4.5\n",
      "  Downloading pyct-0.4.8-py2.py3-none-any.whl (15 kB)\n",
      "Collecting param>=1.6.1\n",
      "  Downloading param-1.12.1-py2.py3-none-any.whl (85 kB)\n",
      "\u001b[K     |████████████████████████████████| 85 kB 4.9 MB/s  eta 0:00:01\n",
      "\u001b[?25hRequirement already satisfied: numpy>=1.7 in /home/ubuntu/anaconda3/envs/nasa_env/lib/python3.9/site-packages (from datashader) (1.21.1)\n",
      "Collecting dask[complete]>=0.18.0\n",
      "  Downloading dask-2022.4.1-py3-none-any.whl (1.1 MB)\n",
      "\u001b[K     |████████████████████████████████| 1.1 MB 46.0 MB/s eta 0:00:01\n",
      "\u001b[?25hRequirement already satisfied: pandas>=0.24.1 in /home/ubuntu/anaconda3/envs/nasa_env/lib/python3.9/site-packages (from datashader) (1.4.2)\n",
      "Collecting datashape>=0.5.1\n",
      "  Downloading datashape-0.5.2.tar.gz (76 kB)\n",
      "\u001b[K     |████████████████████████████████| 76 kB 7.9 MB/s  eta 0:00:01\n",
      "\u001b[?25hCollecting colorcet>=0.9.0\n",
      "  Downloading colorcet-3.0.0-py2.py3-none-any.whl (1.6 MB)\n",
      "\u001b[K     |████████████████████████████████| 1.6 MB 31.0 MB/s eta 0:00:01\n",
      "\u001b[?25hRequirement already satisfied: pillow>=3.1.1 in /home/ubuntu/anaconda3/envs/nasa_env/lib/python3.9/site-packages (from datashader) (9.1.0)\n",
      "Requirement already satisfied: pyyaml>=5.3.1 in /home/ubuntu/anaconda3/envs/nasa_env/lib/python3.9/site-packages (from dask[complete]>=0.18.0->datashader) (5.4.1)\n",
      "Collecting toolz>=0.8.2\n",
      "  Downloading toolz-0.11.2-py3-none-any.whl (55 kB)\n",
      "\u001b[K     |████████████████████████████████| 55 kB 5.0 MB/s  eta 0:00:01\n",
      "\u001b[?25hCollecting partd>=0.3.10\n",
      "  Downloading partd-1.2.0-py3-none-any.whl (19 kB)\n",
      "Collecting cloudpickle>=1.1.1\n",
      "  Downloading cloudpickle-2.0.0-py3-none-any.whl (25 kB)\n",
      "Requirement already satisfied: packaging>=20.0 in /home/ubuntu/anaconda3/envs/nasa_env/lib/python3.9/site-packages (from dask[complete]>=0.18.0->datashader) (21.3)\n",
      "Collecting fsspec>=0.6.0\n",
      "  Downloading fsspec-2022.3.0-py3-none-any.whl (136 kB)\n",
      "\u001b[K     |████████████████████████████████| 136 kB 68.6 MB/s eta 0:00:01\n",
      "\u001b[?25hCollecting bokeh>=2.4.2\n",
      "  Downloading bokeh-2.4.2-py3-none-any.whl (18.5 MB)\n",
      "\u001b[K     |████████████████████████████████| 18.5 MB 75.1 MB/s eta 0:00:01\n",
      "\u001b[?25hCollecting distributed==2022.04.1\n",
      "  Downloading distributed-2022.4.1-py3-none-any.whl (855 kB)\n",
      "\u001b[K     |████████████████████████████████| 855 kB 35.6 MB/s eta 0:00:01\n",
      "\u001b[?25hRequirement already satisfied: jinja2 in /home/ubuntu/anaconda3/envs/nasa_env/lib/python3.9/site-packages (from dask[complete]>=0.18.0->datashader) (3.1.1)\n",
      "Requirement already satisfied: click>=6.6 in /home/ubuntu/anaconda3/envs/nasa_env/lib/python3.9/site-packages (from distributed==2022.04.1->dask[complete]>=0.18.0->datashader) (7.1.2)\n",
      "Requirement already satisfied: psutil>=5.0 in /home/ubuntu/anaconda3/envs/nasa_env/lib/python3.9/site-packages (from distributed==2022.04.1->dask[complete]>=0.18.0->datashader) (5.9.0)\n",
      "Collecting tblib>=1.6.0\n",
      "  Downloading tblib-1.7.0-py2.py3-none-any.whl (12 kB)\n",
      "Collecting sortedcontainers!=2.0.0,!=2.0.1\n",
      "  Downloading sortedcontainers-2.4.0-py2.py3-none-any.whl (29 kB)\n",
      "Requirement already satisfied: urllib3 in /home/ubuntu/anaconda3/envs/nasa_env/lib/python3.9/site-packages (from distributed==2022.04.1->dask[complete]>=0.18.0->datashader) (1.26.9)\n",
      "Requirement already satisfied: tornado>=6.0.3 in /home/ubuntu/anaconda3/envs/nasa_env/lib/python3.9/site-packages (from distributed==2022.04.1->dask[complete]>=0.18.0->datashader) (6.1)\n",
      "Collecting msgpack>=0.6.0\n",
      "  Downloading msgpack-1.0.3-cp39-cp39-manylinux_2_17_x86_64.manylinux2014_x86_64.whl (322 kB)\n",
      "\u001b[K     |████████████████████████████████| 322 kB 61.2 MB/s eta 0:00:01\n",
      "\u001b[?25hCollecting zict>=0.1.3\n",
      "  Downloading zict-2.1.0-py3-none-any.whl (11 kB)\n",
      "Collecting typing-extensions>=3.10.0\n",
      "  Downloading typing_extensions-4.2.0-py3-none-any.whl (24 kB)\n",
      "Collecting multipledispatch>=0.4.7\n",
      "  Downloading multipledispatch-0.6.0-py3-none-any.whl (11 kB)\n",
      "Requirement already satisfied: python-dateutil in /home/ubuntu/anaconda3/envs/nasa_env/lib/python3.9/site-packages (from datashape>=0.5.1->datashader) (2.8.2)\n",
      "Requirement already satisfied: MarkupSafe>=2.0 in /home/ubuntu/anaconda3/envs/nasa_env/lib/python3.9/site-packages (from jinja2->dask[complete]>=0.18.0->datashader) (2.1.1)\n",
      "Requirement already satisfied: six in /home/ubuntu/anaconda3/envs/nasa_env/lib/python3.9/site-packages (from multipledispatch>=0.4.7->datashape>=0.5.1->datashader) (1.16.0)\n",
      "Requirement already satisfied: setuptools in /home/ubuntu/anaconda3/envs/nasa_env/lib/python3.9/site-packages (from numba>=0.51->datashader) (61.2.0)\n",
      "Collecting llvmlite<0.39,>=0.38.0rc1\n",
      "  Downloading llvmlite-0.38.0-cp39-cp39-manylinux_2_17_x86_64.manylinux2014_x86_64.whl (34.5 MB)\n",
      "\u001b[K     |████████████████████████████████| 34.5 MB 20.2 MB/s eta 0:00:01B 20.2 MB/s eta 0:00:02\n",
      "\u001b[?25hRequirement already satisfied: pyparsing!=3.0.5,>=2.0.2 in /home/ubuntu/anaconda3/envs/nasa_env/lib/python3.9/site-packages (from packaging>=20.0->dask[complete]>=0.18.0->datashader) (3.0.8)\n",
      "Requirement already satisfied: pytz>=2020.1 in /home/ubuntu/anaconda3/envs/nasa_env/lib/python3.9/site-packages (from pandas>=0.24.1->datashader) (2022.1)\n",
      "Collecting locket\n",
      "  Downloading locket-0.2.1-py2.py3-none-any.whl (4.1 kB)\n",
      "Collecting heapdict\n",
      "  Downloading HeapDict-1.0.1-py3-none-any.whl (3.9 kB)\n",
      "Building wheels for collected packages: datashape\n",
      "  Building wheel for datashape (setup.py) ... \u001b[?25ldone\n",
      "\u001b[?25h  Created wheel for datashape: filename=datashape-0.5.2-py3-none-any.whl size=59438 sha256=ae6e3a1251fc074706c307b79f5affaa0059b0b9fd9418e9a67ddd6e52595667\n",
      "  Stored in directory: /home/ubuntu/.cache/pip/wheels/42/ef/d7/781cf80d4146d76b3d2ed2510113d78c2643c842cc6c22918d\n",
      "Successfully built datashape\n",
      "Installing collected packages: toolz, locket, partd, heapdict, fsspec, cloudpickle, zict, typing-extensions, tblib, sortedcontainers, param, msgpack, dask, pyct, multipledispatch, llvmlite, distributed, bokeh, numba, datashape, colorcet, datashader\n",
      "Successfully installed bokeh-2.4.2 cloudpickle-2.0.0 colorcet-3.0.0 dask-2022.4.1 datashader-0.13.0 datashape-0.5.2 distributed-2022.4.1 fsspec-2022.3.0 heapdict-1.0.1 llvmlite-0.38.0 locket-0.2.1 msgpack-1.0.3 multipledispatch-0.6.0 numba-0.55.1 param-1.12.1 partd-1.2.0 pyct-0.4.8 sortedcontainers-2.4.0 tblib-1.7.0 toolz-0.11.2 typing-extensions-4.2.0 zict-2.1.0\n"
     ]
    }
   ],
   "source": [
    "!pip install datashader"
   ]
  },
  {
   "cell_type": "code",
   "execution_count": 5,
   "id": "fc482d0a-72af-41a2-bb4b-ede11709938b",
   "metadata": {},
   "outputs": [
    {
     "name": "stdout",
     "output_type": "stream",
     "text": [
      "Collecting pystac-client\n",
      "  Downloading pystac_client-0.3.2-py3-none-any.whl (19 kB)\n",
      "Requirement already satisfied: requests>=2.25 in /home/ubuntu/anaconda3/envs/nasa_env/lib/python3.9/site-packages (from pystac-client) (2.27.1)\n",
      "Collecting pystac~=1.2.0\n",
      "  Downloading pystac-1.2.0-py3-none-any.whl (132 kB)\n",
      "\u001b[K     |████████████████████████████████| 132 kB 43.6 MB/s eta 0:00:01\n",
      "\u001b[?25hRequirement already satisfied: python-dateutil>=2.7.0 in /home/ubuntu/anaconda3/envs/nasa_env/lib/python3.9/site-packages (from pystac~=1.2.0->pystac-client) (2.8.2)\n",
      "Requirement already satisfied: six>=1.5 in /home/ubuntu/anaconda3/envs/nasa_env/lib/python3.9/site-packages (from python-dateutil>=2.7.0->pystac~=1.2.0->pystac-client) (1.16.0)\n",
      "Requirement already satisfied: certifi>=2017.4.17 in /home/ubuntu/anaconda3/envs/nasa_env/lib/python3.9/site-packages (from requests>=2.25->pystac-client) (2021.10.8)\n",
      "Requirement already satisfied: charset-normalizer~=2.0.0 in /home/ubuntu/anaconda3/envs/nasa_env/lib/python3.9/site-packages (from requests>=2.25->pystac-client) (2.0.12)\n",
      "Requirement already satisfied: idna<4,>=2.5 in /home/ubuntu/anaconda3/envs/nasa_env/lib/python3.9/site-packages (from requests>=2.25->pystac-client) (3.3)\n",
      "Requirement already satisfied: urllib3<1.27,>=1.21.1 in /home/ubuntu/anaconda3/envs/nasa_env/lib/python3.9/site-packages (from requests>=2.25->pystac-client) (1.26.9)\n",
      "Installing collected packages: pystac, pystac-client\n",
      "Successfully installed pystac-1.2.0 pystac-client-0.3.2\n"
     ]
    }
   ],
   "source": [
    "!pip install pystac-client"
   ]
  },
  {
   "cell_type": "code",
   "execution_count": 7,
   "id": "e67c1c86-3d76-4ddc-bbcb-313c8bb0c883",
   "metadata": {},
   "outputs": [
    {
     "name": "stdout",
     "output_type": "stream",
     "text": [
      "Collecting xarray-spatial\n",
      "  Downloading xarray_spatial-0.3.3-py3-none-any.whl (10.9 MB)\n",
      "\u001b[K     |████████████████████████████████| 10.9 MB 13.9 MB/s eta 0:00:01\n",
      "\u001b[?25hRequirement already satisfied: xarray in /home/ubuntu/anaconda3/envs/nasa_env/lib/python3.9/site-packages (from xarray-spatial) (2022.3.0)\n",
      "Requirement already satisfied: numba in /home/ubuntu/anaconda3/envs/nasa_env/lib/python3.9/site-packages (from xarray-spatial) (0.55.1)\n",
      "Requirement already satisfied: datashader in /home/ubuntu/anaconda3/envs/nasa_env/lib/python3.9/site-packages (from xarray-spatial) (0.13.0)\n",
      "Requirement already satisfied: numpy>=1.7 in /home/ubuntu/anaconda3/envs/nasa_env/lib/python3.9/site-packages (from datashader->xarray-spatial) (1.21.1)\n",
      "Requirement already satisfied: datashape>=0.5.1 in /home/ubuntu/anaconda3/envs/nasa_env/lib/python3.9/site-packages (from datashader->xarray-spatial) (0.5.2)\n",
      "Requirement already satisfied: pyct>=0.4.5 in /home/ubuntu/anaconda3/envs/nasa_env/lib/python3.9/site-packages (from datashader->xarray-spatial) (0.4.8)\n",
      "Requirement already satisfied: param>=1.6.1 in /home/ubuntu/anaconda3/envs/nasa_env/lib/python3.9/site-packages (from datashader->xarray-spatial) (1.12.1)\n",
      "Requirement already satisfied: colorcet>=0.9.0 in /home/ubuntu/anaconda3/envs/nasa_env/lib/python3.9/site-packages (from datashader->xarray-spatial) (3.0.0)\n",
      "Requirement already satisfied: pandas>=0.24.1 in /home/ubuntu/anaconda3/envs/nasa_env/lib/python3.9/site-packages (from datashader->xarray-spatial) (1.4.2)\n",
      "Requirement already satisfied: pillow>=3.1.1 in /home/ubuntu/anaconda3/envs/nasa_env/lib/python3.9/site-packages (from datashader->xarray-spatial) (9.1.0)\n",
      "Requirement already satisfied: dask[complete]>=0.18.0 in /home/ubuntu/anaconda3/envs/nasa_env/lib/python3.9/site-packages (from datashader->xarray-spatial) (2022.4.1)\n",
      "Requirement already satisfied: scipy in /home/ubuntu/anaconda3/envs/nasa_env/lib/python3.9/site-packages (from datashader->xarray-spatial) (1.8.0)\n",
      "Requirement already satisfied: fsspec>=0.6.0 in /home/ubuntu/anaconda3/envs/nasa_env/lib/python3.9/site-packages (from dask[complete]>=0.18.0->datashader->xarray-spatial) (2022.3.0)\n",
      "Requirement already satisfied: partd>=0.3.10 in /home/ubuntu/anaconda3/envs/nasa_env/lib/python3.9/site-packages (from dask[complete]>=0.18.0->datashader->xarray-spatial) (1.2.0)\n",
      "Requirement already satisfied: cloudpickle>=1.1.1 in /home/ubuntu/anaconda3/envs/nasa_env/lib/python3.9/site-packages (from dask[complete]>=0.18.0->datashader->xarray-spatial) (2.0.0)\n",
      "Requirement already satisfied: pyyaml>=5.3.1 in /home/ubuntu/anaconda3/envs/nasa_env/lib/python3.9/site-packages (from dask[complete]>=0.18.0->datashader->xarray-spatial) (5.4.1)\n",
      "Requirement already satisfied: packaging>=20.0 in /home/ubuntu/anaconda3/envs/nasa_env/lib/python3.9/site-packages (from dask[complete]>=0.18.0->datashader->xarray-spatial) (21.3)\n",
      "Requirement already satisfied: toolz>=0.8.2 in /home/ubuntu/anaconda3/envs/nasa_env/lib/python3.9/site-packages (from dask[complete]>=0.18.0->datashader->xarray-spatial) (0.11.2)\n",
      "Requirement already satisfied: bokeh>=2.4.2 in /home/ubuntu/anaconda3/envs/nasa_env/lib/python3.9/site-packages (from dask[complete]>=0.18.0->datashader->xarray-spatial) (2.4.2)\n",
      "Requirement already satisfied: jinja2 in /home/ubuntu/anaconda3/envs/nasa_env/lib/python3.9/site-packages (from dask[complete]>=0.18.0->datashader->xarray-spatial) (3.1.1)\n",
      "Requirement already satisfied: distributed==2022.04.1 in /home/ubuntu/anaconda3/envs/nasa_env/lib/python3.9/site-packages (from dask[complete]>=0.18.0->datashader->xarray-spatial) (2022.4.1)\n",
      "Requirement already satisfied: tornado>=6.0.3 in /home/ubuntu/anaconda3/envs/nasa_env/lib/python3.9/site-packages (from distributed==2022.04.1->dask[complete]>=0.18.0->datashader->xarray-spatial) (6.1)\n",
      "Requirement already satisfied: msgpack>=0.6.0 in /home/ubuntu/anaconda3/envs/nasa_env/lib/python3.9/site-packages (from distributed==2022.04.1->dask[complete]>=0.18.0->datashader->xarray-spatial) (1.0.3)\n",
      "Requirement already satisfied: zict>=0.1.3 in /home/ubuntu/anaconda3/envs/nasa_env/lib/python3.9/site-packages (from distributed==2022.04.1->dask[complete]>=0.18.0->datashader->xarray-spatial) (2.1.0)\n",
      "Requirement already satisfied: tblib>=1.6.0 in /home/ubuntu/anaconda3/envs/nasa_env/lib/python3.9/site-packages (from distributed==2022.04.1->dask[complete]>=0.18.0->datashader->xarray-spatial) (1.7.0)\n",
      "Requirement already satisfied: urllib3 in /home/ubuntu/anaconda3/envs/nasa_env/lib/python3.9/site-packages (from distributed==2022.04.1->dask[complete]>=0.18.0->datashader->xarray-spatial) (1.26.9)\n",
      "Requirement already satisfied: psutil>=5.0 in /home/ubuntu/anaconda3/envs/nasa_env/lib/python3.9/site-packages (from distributed==2022.04.1->dask[complete]>=0.18.0->datashader->xarray-spatial) (5.9.0)\n",
      "Requirement already satisfied: sortedcontainers!=2.0.0,!=2.0.1 in /home/ubuntu/anaconda3/envs/nasa_env/lib/python3.9/site-packages (from distributed==2022.04.1->dask[complete]>=0.18.0->datashader->xarray-spatial) (2.4.0)\n",
      "Requirement already satisfied: click>=6.6 in /home/ubuntu/anaconda3/envs/nasa_env/lib/python3.9/site-packages (from distributed==2022.04.1->dask[complete]>=0.18.0->datashader->xarray-spatial) (7.1.2)\n",
      "Requirement already satisfied: typing-extensions>=3.10.0 in /home/ubuntu/anaconda3/envs/nasa_env/lib/python3.9/site-packages (from bokeh>=2.4.2->dask[complete]>=0.18.0->datashader->xarray-spatial) (4.2.0)\n",
      "Requirement already satisfied: python-dateutil in /home/ubuntu/anaconda3/envs/nasa_env/lib/python3.9/site-packages (from datashape>=0.5.1->datashader->xarray-spatial) (2.8.2)\n",
      "Requirement already satisfied: multipledispatch>=0.4.7 in /home/ubuntu/anaconda3/envs/nasa_env/lib/python3.9/site-packages (from datashape>=0.5.1->datashader->xarray-spatial) (0.6.0)\n",
      "Requirement already satisfied: MarkupSafe>=2.0 in /home/ubuntu/anaconda3/envs/nasa_env/lib/python3.9/site-packages (from jinja2->dask[complete]>=0.18.0->datashader->xarray-spatial) (2.1.1)\n",
      "Requirement already satisfied: six in /home/ubuntu/anaconda3/envs/nasa_env/lib/python3.9/site-packages (from multipledispatch>=0.4.7->datashape>=0.5.1->datashader->xarray-spatial) (1.16.0)\n",
      "Requirement already satisfied: setuptools in /home/ubuntu/anaconda3/envs/nasa_env/lib/python3.9/site-packages (from numba->xarray-spatial) (61.2.0)\n",
      "Requirement already satisfied: llvmlite<0.39,>=0.38.0rc1 in /home/ubuntu/anaconda3/envs/nasa_env/lib/python3.9/site-packages (from numba->xarray-spatial) (0.38.0)\n",
      "Requirement already satisfied: pyparsing!=3.0.5,>=2.0.2 in /home/ubuntu/anaconda3/envs/nasa_env/lib/python3.9/site-packages (from packaging>=20.0->dask[complete]>=0.18.0->datashader->xarray-spatial) (3.0.8)\n",
      "Requirement already satisfied: pytz>=2020.1 in /home/ubuntu/anaconda3/envs/nasa_env/lib/python3.9/site-packages (from pandas>=0.24.1->datashader->xarray-spatial) (2022.1)\n",
      "Requirement already satisfied: locket in /home/ubuntu/anaconda3/envs/nasa_env/lib/python3.9/site-packages (from partd>=0.3.10->dask[complete]>=0.18.0->datashader->xarray-spatial) (0.2.1)\n",
      "Requirement already satisfied: heapdict in /home/ubuntu/anaconda3/envs/nasa_env/lib/python3.9/site-packages (from zict>=0.1.3->distributed==2022.04.1->dask[complete]>=0.18.0->datashader->xarray-spatial) (1.0.1)\n",
      "Installing collected packages: xarray-spatial\n",
      "Successfully installed xarray-spatial-0.3.3\n"
     ]
    }
   ],
   "source": [
    "!pip install xarray-spatial"
   ]
  },
  {
   "cell_type": "code",
   "execution_count": 9,
   "id": "838a17e0-1626-4ef8-8499-c3a05bb46e71",
   "metadata": {},
   "outputs": [
    {
     "name": "stdout",
     "output_type": "stream",
     "text": [
      "Collecting planetary-computer\n",
      "  Downloading planetary_computer-0.4.6-py3-none-any.whl (14 kB)\n",
      "Requirement already satisfied: pystac>=1.0.0 in /home/ubuntu/anaconda3/envs/nasa_env/lib/python3.9/site-packages (from planetary-computer) (1.2.0)\n",
      "Requirement already satisfied: requests>=2.25.1 in /home/ubuntu/anaconda3/envs/nasa_env/lib/python3.9/site-packages (from planetary-computer) (2.27.1)\n",
      "Requirement already satisfied: click>=7.1 in /home/ubuntu/anaconda3/envs/nasa_env/lib/python3.9/site-packages (from planetary-computer) (7.1.2)\n",
      "Collecting pydantic[dotenv]>=1.7.3\n",
      "  Downloading pydantic-1.9.0-cp39-cp39-manylinux_2_17_x86_64.manylinux2014_x86_64.whl (12.2 MB)\n",
      "\u001b[K     |████████████████████████████████| 12.2 MB 20.2 MB/s eta 0:00:01\n",
      "\u001b[?25hRequirement already satisfied: pystac-client>=0.2.0 in /home/ubuntu/anaconda3/envs/nasa_env/lib/python3.9/site-packages (from planetary-computer) (0.3.2)\n",
      "Requirement already satisfied: pytz>=2020.5 in /home/ubuntu/anaconda3/envs/nasa_env/lib/python3.9/site-packages (from planetary-computer) (2022.1)\n",
      "Requirement already satisfied: typing-extensions>=3.7.4.3 in /home/ubuntu/anaconda3/envs/nasa_env/lib/python3.9/site-packages (from pydantic[dotenv]>=1.7.3->planetary-computer) (4.2.0)\n",
      "Collecting python-dotenv>=0.10.4\n",
      "  Downloading python_dotenv-0.20.0-py3-none-any.whl (17 kB)\n",
      "Requirement already satisfied: python-dateutil>=2.7.0 in /home/ubuntu/anaconda3/envs/nasa_env/lib/python3.9/site-packages (from pystac>=1.0.0->planetary-computer) (2.8.2)\n",
      "Requirement already satisfied: six>=1.5 in /home/ubuntu/anaconda3/envs/nasa_env/lib/python3.9/site-packages (from python-dateutil>=2.7.0->pystac>=1.0.0->planetary-computer) (1.16.0)\n",
      "Requirement already satisfied: charset-normalizer~=2.0.0 in /home/ubuntu/anaconda3/envs/nasa_env/lib/python3.9/site-packages (from requests>=2.25.1->planetary-computer) (2.0.12)\n",
      "Requirement already satisfied: idna<4,>=2.5 in /home/ubuntu/anaconda3/envs/nasa_env/lib/python3.9/site-packages (from requests>=2.25.1->planetary-computer) (3.3)\n",
      "Requirement already satisfied: certifi>=2017.4.17 in /home/ubuntu/anaconda3/envs/nasa_env/lib/python3.9/site-packages (from requests>=2.25.1->planetary-computer) (2021.10.8)\n",
      "Requirement already satisfied: urllib3<1.27,>=1.21.1 in /home/ubuntu/anaconda3/envs/nasa_env/lib/python3.9/site-packages (from requests>=2.25.1->planetary-computer) (1.26.9)\n",
      "Installing collected packages: python-dotenv, pydantic, planetary-computer\n",
      "Successfully installed planetary-computer-0.4.6 pydantic-1.9.0 python-dotenv-0.20.0\n"
     ]
    }
   ],
   "source": [
    "!pip install planetary-computer"
   ]
  },
  {
   "cell_type": "code",
   "execution_count": 6,
   "id": "23259e68-e064-4162-8db4-8811d22508cf",
   "metadata": {},
   "outputs": [],
   "source": [
    "from datashader.transfer_functions import shade, stack\n",
    "from datashader.colors import Elevation\n",
    "from pystac_client import Client\n",
    "from xrspatial import hillshade\n",
    "\n",
    "import planetary_computer as pc\n",
    "import xarray as xr\n",
    "import pandas as pd"
   ]
  },
  {
   "cell_type": "code",
   "execution_count": 7,
   "id": "8d2ad530-6b4d-41cf-80a9-f2f61363605f",
   "metadata": {},
   "outputs": [],
   "source": [
    "def get_elevation(areas_of_interest):\n",
    "    catalog = Client.open(\"https://planetarycomputer.microsoft.com/api/stac/v1\")\n",
    "    nasadem = catalog.search(collections=[\"nasadem\"], intersects=areas_of_interest)\n",
    "\n",
    "    items = [item for item in nasadem.get_items()]\n",
    "    print(f\"Returned {len(items)} Items\")\n",
    "\n",
    "    item = items[0]\n",
    "    signed_asset = pc.sign(item.assets[\"elevation\"])\n",
    "    da = xr.open_rasterio(signed_asset.href)\n",
    "    return float(da.mean()), float(da.std())"
   ]
  },
  {
   "cell_type": "code",
   "execution_count": 8,
   "id": "b3936c9b-56fe-49b9-8499-78cfe491686b",
   "metadata": {},
   "outputs": [
    {
     "name": "stderr",
     "output_type": "stream",
     "text": [
      "  0%|                                                                                                           | 0/54 [00:00<?, ?it/s]"
     ]
    },
    {
     "name": "stdout",
     "output_type": "stream",
     "text": [
      "Returned 2 Items\n"
     ]
    },
    {
     "name": "stderr",
     "output_type": "stream",
     "text": [
      "/tmp/ipykernel_242971/1888153017.py:10: DeprecationWarning: open_rasterio is Deprecated in favor of rioxarray. For information about transitioning, see: https://corteva.github.io/rioxarray/stable/getting_started/getting_started.html\n",
      "  da = xr.open_rasterio(signed_asset.href)\n",
      "  2%|█▊                                                                                                 | 1/54 [00:03<02:42,  3.07s/it]"
     ]
    },
    {
     "name": "stdout",
     "output_type": "stream",
     "text": [
      "Returned 1 Items\n"
     ]
    },
    {
     "name": "stderr",
     "output_type": "stream",
     "text": [
      "/tmp/ipykernel_242971/1888153017.py:10: DeprecationWarning: open_rasterio is Deprecated in favor of rioxarray. For information about transitioning, see: https://corteva.github.io/rioxarray/stable/getting_started/getting_started.html\n",
      "  da = xr.open_rasterio(signed_asset.href)\n",
      "  4%|███▋                                                                                               | 2/54 [00:04<01:56,  2.25s/it]"
     ]
    },
    {
     "name": "stdout",
     "output_type": "stream",
     "text": [
      "Returned 1 Items\n"
     ]
    },
    {
     "name": "stderr",
     "output_type": "stream",
     "text": [
      "/tmp/ipykernel_242971/1888153017.py:10: DeprecationWarning: open_rasterio is Deprecated in favor of rioxarray. For information about transitioning, see: https://corteva.github.io/rioxarray/stable/getting_started/getting_started.html\n",
      "  da = xr.open_rasterio(signed_asset.href)\n",
      "  6%|█████▌                                                                                             | 3/54 [00:06<01:50,  2.16s/it]/tmp/ipykernel_242971/1888153017.py:10: DeprecationWarning: open_rasterio is Deprecated in favor of rioxarray. For information about transitioning, see: https://corteva.github.io/rioxarray/stable/getting_started/getting_started.html\n",
      "  da = xr.open_rasterio(signed_asset.href)\n",
      "  7%|███████▎                                                                                           | 4/54 [00:07<01:26,  1.72s/it]"
     ]
    },
    {
     "name": "stdout",
     "output_type": "stream",
     "text": [
      "Returned 1 Items\n"
     ]
    },
    {
     "name": "stderr",
     "output_type": "stream",
     "text": [
      "/tmp/ipykernel_242971/1888153017.py:10: DeprecationWarning: open_rasterio is Deprecated in favor of rioxarray. For information about transitioning, see: https://corteva.github.io/rioxarray/stable/getting_started/getting_started.html\n",
      "  da = xr.open_rasterio(signed_asset.href)\n",
      "  9%|█████████▏                                                                                         | 5/54 [00:08<01:04,  1.32s/it]"
     ]
    },
    {
     "name": "stdout",
     "output_type": "stream",
     "text": [
      "Returned 1 Items\n",
      "Returned 1 Items\n"
     ]
    },
    {
     "name": "stderr",
     "output_type": "stream",
     "text": [
      "/tmp/ipykernel_242971/1888153017.py:10: DeprecationWarning: open_rasterio is Deprecated in favor of rioxarray. For information about transitioning, see: https://corteva.github.io/rioxarray/stable/getting_started/getting_started.html\n",
      "  da = xr.open_rasterio(signed_asset.href)\n",
      " 11%|███████████                                                                                        | 6/54 [00:10<01:09,  1.44s/it]/tmp/ipykernel_242971/1888153017.py:10: DeprecationWarning: open_rasterio is Deprecated in favor of rioxarray. For information about transitioning, see: https://corteva.github.io/rioxarray/stable/getting_started/getting_started.html\n",
      "  da = xr.open_rasterio(signed_asset.href)\n",
      " 13%|████████████▊                                                                                      | 7/54 [00:11<01:00,  1.29s/it]"
     ]
    },
    {
     "name": "stdout",
     "output_type": "stream",
     "text": [
      "Returned 1 Items\n"
     ]
    },
    {
     "name": "stderr",
     "output_type": "stream",
     "text": [
      "/tmp/ipykernel_242971/1888153017.py:10: DeprecationWarning: open_rasterio is Deprecated in favor of rioxarray. For information about transitioning, see: https://corteva.github.io/rioxarray/stable/getting_started/getting_started.html\n",
      "  da = xr.open_rasterio(signed_asset.href)\n",
      " 15%|██████████████▋                                                                                    | 8/54 [00:12<00:56,  1.23s/it]"
     ]
    },
    {
     "name": "stdout",
     "output_type": "stream",
     "text": [
      "Returned 1 Items\n",
      "Returned 1 Items\n"
     ]
    },
    {
     "name": "stderr",
     "output_type": "stream",
     "text": [
      "/tmp/ipykernel_242971/1888153017.py:10: DeprecationWarning: open_rasterio is Deprecated in favor of rioxarray. For information about transitioning, see: https://corteva.github.io/rioxarray/stable/getting_started/getting_started.html\n",
      "  da = xr.open_rasterio(signed_asset.href)\n",
      " 17%|████████████████▌                                                                                  | 9/54 [00:13<00:55,  1.23s/it]/tmp/ipykernel_242971/1888153017.py:10: DeprecationWarning: open_rasterio is Deprecated in favor of rioxarray. For information about transitioning, see: https://corteva.github.io/rioxarray/stable/getting_started/getting_started.html\n",
      "  da = xr.open_rasterio(signed_asset.href)\n",
      " 19%|██████████████████▏                                                                               | 10/54 [00:14<00:47,  1.09s/it]"
     ]
    },
    {
     "name": "stdout",
     "output_type": "stream",
     "text": [
      "Returned 1 Items\n"
     ]
    },
    {
     "name": "stderr",
     "output_type": "stream",
     "text": [
      "/tmp/ipykernel_242971/1888153017.py:10: DeprecationWarning: open_rasterio is Deprecated in favor of rioxarray. For information about transitioning, see: https://corteva.github.io/rioxarray/stable/getting_started/getting_started.html\n",
      "  da = xr.open_rasterio(signed_asset.href)\n",
      " 20%|███████████████████▉                                                                              | 11/54 [00:14<00:41,  1.04it/s]"
     ]
    },
    {
     "name": "stdout",
     "output_type": "stream",
     "text": [
      "Returned 1 Items\n",
      "Returned 2 Items\n"
     ]
    },
    {
     "name": "stderr",
     "output_type": "stream",
     "text": [
      "/tmp/ipykernel_242971/1888153017.py:10: DeprecationWarning: open_rasterio is Deprecated in favor of rioxarray. For information about transitioning, see: https://corteva.github.io/rioxarray/stable/getting_started/getting_started.html\n",
      "  da = xr.open_rasterio(signed_asset.href)\n",
      " 22%|█████████████████████▊                                                                            | 12/54 [00:16<00:52,  1.24s/it]"
     ]
    },
    {
     "name": "stdout",
     "output_type": "stream",
     "text": [
      "Returned 1 Items\n"
     ]
    },
    {
     "name": "stderr",
     "output_type": "stream",
     "text": [
      "/tmp/ipykernel_242971/1888153017.py:10: DeprecationWarning: open_rasterio is Deprecated in favor of rioxarray. For information about transitioning, see: https://corteva.github.io/rioxarray/stable/getting_started/getting_started.html\n",
      "  da = xr.open_rasterio(signed_asset.href)\n",
      " 24%|███████████████████████▌                                                                          | 13/54 [00:18<00:59,  1.44s/it]/tmp/ipykernel_242971/1888153017.py:10: DeprecationWarning: open_rasterio is Deprecated in favor of rioxarray. For information about transitioning, see: https://corteva.github.io/rioxarray/stable/getting_started/getting_started.html\n",
      "  da = xr.open_rasterio(signed_asset.href)\n",
      " 26%|█████████████████████████▍                                                                        | 14/54 [00:19<00:48,  1.21s/it]"
     ]
    },
    {
     "name": "stdout",
     "output_type": "stream",
     "text": [
      "Returned 1 Items\n"
     ]
    },
    {
     "name": "stderr",
     "output_type": "stream",
     "text": [
      "/tmp/ipykernel_242971/1888153017.py:10: DeprecationWarning: open_rasterio is Deprecated in favor of rioxarray. For information about transitioning, see: https://corteva.github.io/rioxarray/stable/getting_started/getting_started.html\n",
      "  da = xr.open_rasterio(signed_asset.href)\n",
      " 28%|███████████████████████████▏                                                                      | 15/54 [00:20<00:43,  1.11s/it]"
     ]
    },
    {
     "name": "stdout",
     "output_type": "stream",
     "text": [
      "Returned 1 Items\n"
     ]
    },
    {
     "name": "stderr",
     "output_type": "stream",
     "text": [
      "/tmp/ipykernel_242971/1888153017.py:10: DeprecationWarning: open_rasterio is Deprecated in favor of rioxarray. For information about transitioning, see: https://corteva.github.io/rioxarray/stable/getting_started/getting_started.html\n",
      "  da = xr.open_rasterio(signed_asset.href)\n",
      " 30%|█████████████████████████████                                                                     | 16/54 [00:21<00:39,  1.04s/it]"
     ]
    },
    {
     "name": "stdout",
     "output_type": "stream",
     "text": [
      "Returned 1 Items\n"
     ]
    },
    {
     "name": "stderr",
     "output_type": "stream",
     "text": [
      "/tmp/ipykernel_242971/1888153017.py:10: DeprecationWarning: open_rasterio is Deprecated in favor of rioxarray. For information about transitioning, see: https://corteva.github.io/rioxarray/stable/getting_started/getting_started.html\n",
      "  da = xr.open_rasterio(signed_asset.href)\n",
      " 31%|██████████████████████████████▊                                                                   | 17/54 [00:21<00:36,  1.01it/s]"
     ]
    },
    {
     "name": "stdout",
     "output_type": "stream",
     "text": [
      "Returned 1 Items\n"
     ]
    },
    {
     "name": "stderr",
     "output_type": "stream",
     "text": [
      "/tmp/ipykernel_242971/1888153017.py:10: DeprecationWarning: open_rasterio is Deprecated in favor of rioxarray. For information about transitioning, see: https://corteva.github.io/rioxarray/stable/getting_started/getting_started.html\n",
      "  da = xr.open_rasterio(signed_asset.href)\n",
      " 33%|████████████████████████████████▋                                                                 | 18/54 [00:22<00:35,  1.02it/s]"
     ]
    },
    {
     "name": "stdout",
     "output_type": "stream",
     "text": [
      "Returned 1 Items\n",
      "Returned 1 Items\n"
     ]
    },
    {
     "name": "stderr",
     "output_type": "stream",
     "text": [
      "/tmp/ipykernel_242971/1888153017.py:10: DeprecationWarning: open_rasterio is Deprecated in favor of rioxarray. For information about transitioning, see: https://corteva.github.io/rioxarray/stable/getting_started/getting_started.html\n",
      "  da = xr.open_rasterio(signed_asset.href)\n",
      " 35%|██████████████████████████████████▍                                                               | 19/54 [00:25<00:46,  1.33s/it]"
     ]
    },
    {
     "name": "stdout",
     "output_type": "stream",
     "text": [
      "Returned 1 Items\n"
     ]
    },
    {
     "name": "stderr",
     "output_type": "stream",
     "text": [
      "/tmp/ipykernel_242971/1888153017.py:10: DeprecationWarning: open_rasterio is Deprecated in favor of rioxarray. For information about transitioning, see: https://corteva.github.io/rioxarray/stable/getting_started/getting_started.html\n",
      "  da = xr.open_rasterio(signed_asset.href)\n",
      " 37%|████████████████████████████████████▎                                                             | 20/54 [00:27<00:52,  1.55s/it]"
     ]
    },
    {
     "name": "stdout",
     "output_type": "stream",
     "text": [
      "Returned 2 Items\n"
     ]
    },
    {
     "name": "stderr",
     "output_type": "stream",
     "text": [
      "/tmp/ipykernel_242971/1888153017.py:10: DeprecationWarning: open_rasterio is Deprecated in favor of rioxarray. For information about transitioning, see: https://corteva.github.io/rioxarray/stable/getting_started/getting_started.html\n",
      "  da = xr.open_rasterio(signed_asset.href)\n",
      " 39%|██████████████████████████████████████                                                            | 21/54 [00:28<00:52,  1.60s/it]/tmp/ipykernel_242971/1888153017.py:10: DeprecationWarning: open_rasterio is Deprecated in favor of rioxarray. For information about transitioning, see: https://corteva.github.io/rioxarray/stable/getting_started/getting_started.html\n",
      "  da = xr.open_rasterio(signed_asset.href)\n",
      " 41%|███████████████████████████████████████▉                                                          | 22/54 [00:29<00:43,  1.37s/it]"
     ]
    },
    {
     "name": "stdout",
     "output_type": "stream",
     "text": [
      "Returned 2 Items\n",
      "Returned 1 Items\n"
     ]
    },
    {
     "name": "stderr",
     "output_type": "stream",
     "text": [
      "/tmp/ipykernel_242971/1888153017.py:10: DeprecationWarning: open_rasterio is Deprecated in favor of rioxarray. For information about transitioning, see: https://corteva.github.io/rioxarray/stable/getting_started/getting_started.html\n",
      "  da = xr.open_rasterio(signed_asset.href)\n",
      " 43%|█████████████████████████████████████████▋                                                        | 23/54 [00:31<00:44,  1.42s/it]"
     ]
    },
    {
     "name": "stdout",
     "output_type": "stream",
     "text": [
      "Returned 1 Items\n"
     ]
    },
    {
     "name": "stderr",
     "output_type": "stream",
     "text": [
      "/tmp/ipykernel_242971/1888153017.py:10: DeprecationWarning: open_rasterio is Deprecated in favor of rioxarray. For information about transitioning, see: https://corteva.github.io/rioxarray/stable/getting_started/getting_started.html\n",
      "  da = xr.open_rasterio(signed_asset.href)\n",
      " 44%|███████████████████████████████████████████▌                                                      | 24/54 [00:35<01:03,  2.13s/it]/tmp/ipykernel_242971/1888153017.py:10: DeprecationWarning: open_rasterio is Deprecated in favor of rioxarray. For information about transitioning, see: https://corteva.github.io/rioxarray/stable/getting_started/getting_started.html\n",
      "  da = xr.open_rasterio(signed_asset.href)\n",
      " 46%|█████████████████████████████████████████████▎                                                    | 25/54 [00:35<00:51,  1.76s/it]"
     ]
    },
    {
     "name": "stdout",
     "output_type": "stream",
     "text": [
      "Returned 1 Items\n"
     ]
    },
    {
     "name": "stderr",
     "output_type": "stream",
     "text": [
      "/tmp/ipykernel_242971/1888153017.py:10: DeprecationWarning: open_rasterio is Deprecated in favor of rioxarray. For information about transitioning, see: https://corteva.github.io/rioxarray/stable/getting_started/getting_started.html\n",
      "  da = xr.open_rasterio(signed_asset.href)\n",
      " 48%|███████████████████████████████████████████████▏                                                  | 26/54 [00:36<00:39,  1.43s/it]"
     ]
    },
    {
     "name": "stdout",
     "output_type": "stream",
     "text": [
      "Returned 1 Items\n",
      "Returned 1 Items\n"
     ]
    },
    {
     "name": "stderr",
     "output_type": "stream",
     "text": [
      "/tmp/ipykernel_242971/1888153017.py:10: DeprecationWarning: open_rasterio is Deprecated in favor of rioxarray. For information about transitioning, see: https://corteva.github.io/rioxarray/stable/getting_started/getting_started.html\n",
      "  da = xr.open_rasterio(signed_asset.href)\n",
      " 50%|█████████████████████████████████████████████████                                                 | 27/54 [00:38<00:44,  1.64s/it]"
     ]
    },
    {
     "name": "stdout",
     "output_type": "stream",
     "text": [
      "Returned 1 Items\n"
     ]
    },
    {
     "name": "stderr",
     "output_type": "stream",
     "text": [
      "/tmp/ipykernel_242971/1888153017.py:10: DeprecationWarning: open_rasterio is Deprecated in favor of rioxarray. For information about transitioning, see: https://corteva.github.io/rioxarray/stable/getting_started/getting_started.html\n",
      "  da = xr.open_rasterio(signed_asset.href)\n",
      " 52%|██████████████████████████████████████████████████▊                                               | 28/54 [00:41<00:49,  1.91s/it]/tmp/ipykernel_242971/1888153017.py:10: DeprecationWarning: open_rasterio is Deprecated in favor of rioxarray. For information about transitioning, see: https://corteva.github.io/rioxarray/stable/getting_started/getting_started.html\n",
      "  da = xr.open_rasterio(signed_asset.href)\n",
      " 54%|████████████████████████████████████████████████████▋                                             | 29/54 [00:42<00:41,  1.66s/it]"
     ]
    },
    {
     "name": "stdout",
     "output_type": "stream",
     "text": [
      "Returned 1 Items\n"
     ]
    },
    {
     "name": "stderr",
     "output_type": "stream",
     "text": [
      "/tmp/ipykernel_242971/1888153017.py:10: DeprecationWarning: open_rasterio is Deprecated in favor of rioxarray. For information about transitioning, see: https://corteva.github.io/rioxarray/stable/getting_started/getting_started.html\n",
      "  da = xr.open_rasterio(signed_asset.href)\n",
      " 56%|██████████████████████████████████████████████████████▍                                           | 30/54 [00:43<00:33,  1.41s/it]"
     ]
    },
    {
     "name": "stdout",
     "output_type": "stream",
     "text": [
      "Returned 1 Items\n",
      "Returned 1 Items\n"
     ]
    },
    {
     "name": "stderr",
     "output_type": "stream",
     "text": [
      "/tmp/ipykernel_242971/1888153017.py:10: DeprecationWarning: open_rasterio is Deprecated in favor of rioxarray. For information about transitioning, see: https://corteva.github.io/rioxarray/stable/getting_started/getting_started.html\n",
      "  da = xr.open_rasterio(signed_asset.href)\n",
      " 57%|████████████████████████████████████████████████████████▎                                         | 31/54 [00:44<00:30,  1.34s/it]/tmp/ipykernel_242971/1888153017.py:10: DeprecationWarning: open_rasterio is Deprecated in favor of rioxarray. For information about transitioning, see: https://corteva.github.io/rioxarray/stable/getting_started/getting_started.html\n",
      "  da = xr.open_rasterio(signed_asset.href)\n",
      " 59%|██████████████████████████████████████████████████████████                                        | 32/54 [00:45<00:25,  1.14s/it]"
     ]
    },
    {
     "name": "stdout",
     "output_type": "stream",
     "text": [
      "Returned 1 Items\n"
     ]
    },
    {
     "name": "stderr",
     "output_type": "stream",
     "text": [
      "/tmp/ipykernel_242971/1888153017.py:10: DeprecationWarning: open_rasterio is Deprecated in favor of rioxarray. For information about transitioning, see: https://corteva.github.io/rioxarray/stable/getting_started/getting_started.html\n",
      "  da = xr.open_rasterio(signed_asset.href)\n",
      " 61%|███████████████████████████████████████████████████████████▉                                      | 33/54 [00:45<00:22,  1.07s/it]"
     ]
    },
    {
     "name": "stdout",
     "output_type": "stream",
     "text": [
      "Returned 1 Items\n"
     ]
    },
    {
     "name": "stderr",
     "output_type": "stream",
     "text": [
      "/tmp/ipykernel_242971/1888153017.py:10: DeprecationWarning: open_rasterio is Deprecated in favor of rioxarray. For information about transitioning, see: https://corteva.github.io/rioxarray/stable/getting_started/getting_started.html\n",
      "  da = xr.open_rasterio(signed_asset.href)\n",
      " 63%|█████████████████████████████████████████████████████████████▋                                    | 34/54 [00:46<00:20,  1.00s/it]"
     ]
    },
    {
     "name": "stdout",
     "output_type": "stream",
     "text": [
      "Returned 1 Items\n",
      "Returned 1 Items\n"
     ]
    },
    {
     "name": "stderr",
     "output_type": "stream",
     "text": [
      "/tmp/ipykernel_242971/1888153017.py:10: DeprecationWarning: open_rasterio is Deprecated in favor of rioxarray. For information about transitioning, see: https://corteva.github.io/rioxarray/stable/getting_started/getting_started.html\n",
      "  da = xr.open_rasterio(signed_asset.href)\n",
      " 65%|███████████████████████████████████████████████████████████████▌                                  | 35/54 [00:48<00:26,  1.37s/it]"
     ]
    },
    {
     "name": "stdout",
     "output_type": "stream",
     "text": [
      "Returned 1 Items\n"
     ]
    },
    {
     "name": "stderr",
     "output_type": "stream",
     "text": [
      "/tmp/ipykernel_242971/1888153017.py:10: DeprecationWarning: open_rasterio is Deprecated in favor of rioxarray. For information about transitioning, see: https://corteva.github.io/rioxarray/stable/getting_started/getting_started.html\n",
      "  da = xr.open_rasterio(signed_asset.href)\n",
      " 67%|█████████████████████████████████████████████████████████████████▎                                | 36/54 [00:51<00:30,  1.71s/it]"
     ]
    },
    {
     "name": "stdout",
     "output_type": "stream",
     "text": [
      "Returned 1 Items\n"
     ]
    },
    {
     "name": "stderr",
     "output_type": "stream",
     "text": [
      "/tmp/ipykernel_242971/1888153017.py:10: DeprecationWarning: open_rasterio is Deprecated in favor of rioxarray. For information about transitioning, see: https://corteva.github.io/rioxarray/stable/getting_started/getting_started.html\n",
      "  da = xr.open_rasterio(signed_asset.href)\n",
      " 69%|███████████████████████████████████████████████████████████████████▏                              | 37/54 [00:53<00:29,  1.73s/it]"
     ]
    },
    {
     "name": "stdout",
     "output_type": "stream",
     "text": [
      "Returned 1 Items\n"
     ]
    },
    {
     "name": "stderr",
     "output_type": "stream",
     "text": [
      "/tmp/ipykernel_242971/1888153017.py:10: DeprecationWarning: open_rasterio is Deprecated in favor of rioxarray. For information about transitioning, see: https://corteva.github.io/rioxarray/stable/getting_started/getting_started.html\n",
      "  da = xr.open_rasterio(signed_asset.href)\n",
      " 70%|████████████████████████████████████████████████████████████████████▉                             | 38/54 [00:55<00:29,  1.87s/it]"
     ]
    },
    {
     "name": "stdout",
     "output_type": "stream",
     "text": [
      "Returned 1 Items\n"
     ]
    },
    {
     "name": "stderr",
     "output_type": "stream",
     "text": [
      "/tmp/ipykernel_242971/1888153017.py:10: DeprecationWarning: open_rasterio is Deprecated in favor of rioxarray. For information about transitioning, see: https://corteva.github.io/rioxarray/stable/getting_started/getting_started.html\n",
      "  da = xr.open_rasterio(signed_asset.href)\n",
      " 72%|██████████████████████████████████████████████████████████████████████▊                           | 39/54 [00:56<00:25,  1.73s/it]/tmp/ipykernel_242971/1888153017.py:10: DeprecationWarning: open_rasterio is Deprecated in favor of rioxarray. For information about transitioning, see: https://corteva.github.io/rioxarray/stable/getting_started/getting_started.html\n",
      "  da = xr.open_rasterio(signed_asset.href)\n",
      " 74%|████████████████████████████████████████████████████████████████████████▌                         | 40/54 [00:57<00:20,  1.47s/it]"
     ]
    },
    {
     "name": "stdout",
     "output_type": "stream",
     "text": [
      "Returned 1 Items\n"
     ]
    },
    {
     "name": "stderr",
     "output_type": "stream",
     "text": [
      "/tmp/ipykernel_242971/1888153017.py:10: DeprecationWarning: open_rasterio is Deprecated in favor of rioxarray. For information about transitioning, see: https://corteva.github.io/rioxarray/stable/getting_started/getting_started.html\n",
      "  da = xr.open_rasterio(signed_asset.href)\n",
      " 76%|██████████████████████████████████████████████████████████████████████████▍                       | 41/54 [00:58<00:15,  1.23s/it]"
     ]
    },
    {
     "name": "stdout",
     "output_type": "stream",
     "text": [
      "Returned 1 Items\n",
      "Returned 1 Items\n"
     ]
    },
    {
     "name": "stderr",
     "output_type": "stream",
     "text": [
      "/tmp/ipykernel_242971/1888153017.py:10: DeprecationWarning: open_rasterio is Deprecated in favor of rioxarray. For information about transitioning, see: https://corteva.github.io/rioxarray/stable/getting_started/getting_started.html\n",
      "  da = xr.open_rasterio(signed_asset.href)\n",
      " 78%|████████████████████████████████████████████████████████████████████████████▏                     | 42/54 [00:59<00:15,  1.27s/it]"
     ]
    },
    {
     "name": "stdout",
     "output_type": "stream",
     "text": [
      "Returned 1 Items\n"
     ]
    },
    {
     "name": "stderr",
     "output_type": "stream",
     "text": [
      "/tmp/ipykernel_242971/1888153017.py:10: DeprecationWarning: open_rasterio is Deprecated in favor of rioxarray. For information about transitioning, see: https://corteva.github.io/rioxarray/stable/getting_started/getting_started.html\n",
      "  da = xr.open_rasterio(signed_asset.href)\n",
      " 80%|██████████████████████████████████████████████████████████████████████████████                    | 43/54 [01:01<00:14,  1.30s/it]/tmp/ipykernel_242971/1888153017.py:10: DeprecationWarning: open_rasterio is Deprecated in favor of rioxarray. For information about transitioning, see: https://corteva.github.io/rioxarray/stable/getting_started/getting_started.html\n",
      "  da = xr.open_rasterio(signed_asset.href)\n",
      " 81%|███████████████████████████████████████████████████████████████████████████████▊                  | 44/54 [01:01<00:11,  1.10s/it]"
     ]
    },
    {
     "name": "stdout",
     "output_type": "stream",
     "text": [
      "Returned 1 Items\n"
     ]
    },
    {
     "name": "stderr",
     "output_type": "stream",
     "text": [
      "/tmp/ipykernel_242971/1888153017.py:10: DeprecationWarning: open_rasterio is Deprecated in favor of rioxarray. For information about transitioning, see: https://corteva.github.io/rioxarray/stable/getting_started/getting_started.html\n",
      "  da = xr.open_rasterio(signed_asset.href)\n",
      " 83%|█████████████████████████████████████████████████████████████████████████████████▋                | 45/54 [01:02<00:08,  1.04it/s]"
     ]
    },
    {
     "name": "stdout",
     "output_type": "stream",
     "text": [
      "Returned 1 Items\n",
      "Returned 1 Items\n"
     ]
    },
    {
     "name": "stderr",
     "output_type": "stream",
     "text": [
      "/tmp/ipykernel_242971/1888153017.py:10: DeprecationWarning: open_rasterio is Deprecated in favor of rioxarray. For information about transitioning, see: https://corteva.github.io/rioxarray/stable/getting_started/getting_started.html\n",
      "  da = xr.open_rasterio(signed_asset.href)\n",
      " 85%|███████████████████████████████████████████████████████████████████████████████████▍              | 46/54 [01:04<00:11,  1.41s/it]"
     ]
    },
    {
     "name": "stdout",
     "output_type": "stream",
     "text": [
      "Returned 1 Items\n"
     ]
    },
    {
     "name": "stderr",
     "output_type": "stream",
     "text": [
      "/tmp/ipykernel_242971/1888153017.py:10: DeprecationWarning: open_rasterio is Deprecated in favor of rioxarray. For information about transitioning, see: https://corteva.github.io/rioxarray/stable/getting_started/getting_started.html\n",
      "  da = xr.open_rasterio(signed_asset.href)\n",
      " 87%|█████████████████████████████████████████████████████████████████████████████████████▎            | 47/54 [01:06<00:10,  1.47s/it]"
     ]
    },
    {
     "name": "stdout",
     "output_type": "stream",
     "text": [
      "Returned 1 Items\n"
     ]
    },
    {
     "name": "stderr",
     "output_type": "stream",
     "text": [
      "/tmp/ipykernel_242971/1888153017.py:10: DeprecationWarning: open_rasterio is Deprecated in favor of rioxarray. For information about transitioning, see: https://corteva.github.io/rioxarray/stable/getting_started/getting_started.html\n",
      "  da = xr.open_rasterio(signed_asset.href)\n",
      " 89%|███████████████████████████████████████████████████████████████████████████████████████           | 48/54 [01:08<00:10,  1.69s/it]"
     ]
    },
    {
     "name": "stdout",
     "output_type": "stream",
     "text": [
      "Returned 1 Items\n"
     ]
    },
    {
     "name": "stderr",
     "output_type": "stream",
     "text": [
      "/tmp/ipykernel_242971/1888153017.py:10: DeprecationWarning: open_rasterio is Deprecated in favor of rioxarray. For information about transitioning, see: https://corteva.github.io/rioxarray/stable/getting_started/getting_started.html\n",
      "  da = xr.open_rasterio(signed_asset.href)\n",
      " 91%|████████████████████████████████████████████████████████████████████████████████████████▉         | 49/54 [01:09<00:07,  1.46s/it]/tmp/ipykernel_242971/1888153017.py:10: DeprecationWarning: open_rasterio is Deprecated in favor of rioxarray. For information about transitioning, see: https://corteva.github.io/rioxarray/stable/getting_started/getting_started.html\n",
      "  da = xr.open_rasterio(signed_asset.href)\n",
      " 93%|██████████████████████████████████████████████████████████████████████████████████████████▋       | 50/54 [01:10<00:04,  1.21s/it]"
     ]
    },
    {
     "name": "stdout",
     "output_type": "stream",
     "text": [
      "Returned 1 Items\n",
      "Returned 1 Items\n"
     ]
    },
    {
     "name": "stderr",
     "output_type": "stream",
     "text": [
      "/tmp/ipykernel_242971/1888153017.py:10: DeprecationWarning: open_rasterio is Deprecated in favor of rioxarray. For information about transitioning, see: https://corteva.github.io/rioxarray/stable/getting_started/getting_started.html\n",
      "  da = xr.open_rasterio(signed_asset.href)\n",
      " 94%|████████████████████████████████████████████████████████████████████████████████████████████▌     | 51/54 [01:13<00:05,  1.76s/it]/tmp/ipykernel_242971/1888153017.py:10: DeprecationWarning: open_rasterio is Deprecated in favor of rioxarray. For information about transitioning, see: https://corteva.github.io/rioxarray/stable/getting_started/getting_started.html\n",
      "  da = xr.open_rasterio(signed_asset.href)\n",
      " 96%|██████████████████████████████████████████████████████████████████████████████████████████████▎   | 52/54 [01:13<00:02,  1.42s/it]"
     ]
    },
    {
     "name": "stdout",
     "output_type": "stream",
     "text": [
      "Returned 1 Items\n",
      "Returned 1 Items\n"
     ]
    },
    {
     "name": "stderr",
     "output_type": "stream",
     "text": [
      "/tmp/ipykernel_242971/1888153017.py:10: DeprecationWarning: open_rasterio is Deprecated in favor of rioxarray. For information about transitioning, see: https://corteva.github.io/rioxarray/stable/getting_started/getting_started.html\n",
      "  da = xr.open_rasterio(signed_asset.href)\n",
      " 98%|████████████████████████████████████████████████████████████████████████████████████████████████▏ | 53/54 [01:17<00:02,  2.07s/it]"
     ]
    },
    {
     "name": "stdout",
     "output_type": "stream",
     "text": [
      "Returned 1 Items\n"
     ]
    },
    {
     "name": "stderr",
     "output_type": "stream",
     "text": [
      "/tmp/ipykernel_242971/1888153017.py:10: DeprecationWarning: open_rasterio is Deprecated in favor of rioxarray. For information about transitioning, see: https://corteva.github.io/rioxarray/stable/getting_started/getting_started.html\n",
      "  da = xr.open_rasterio(signed_asset.href)\n",
      "100%|██████████████████████████████████████████████████████████████████████████████████████████████████| 54/54 [01:19<00:00,  1.47s/it]\n"
     ]
    }
   ],
   "source": [
    "from tqdm import tqdm\n",
    "grid_data = pd.read_csv('../data/grid_metadata.csv')\n",
    "wkt = grid_data['wkt'].values\n",
    "elevation_mean = []\n",
    "elevation_var = []\n",
    "\n",
    "\n",
    "for i in tqdm(range(len(wkt))):\n",
    "    geometry = wkt[i]\n",
    "    geometry = geometry.replace('(', '', -1)\n",
    "    geometry = geometry.replace(')', '', -1)\n",
    "    geometry = geometry.replace(',', '', -1)\n",
    "    geometry = list(map(float, geometry.split()[1:]))\n",
    "    geometry = [geometry[i:i+2] for i in range(0, len(geometry), 2)]\n",
    "\n",
    "    areas_of_interest = {\"type\": \"Polygon\", \"coordinates\": [geometry]}\n",
    "    m, v = get_elevation(areas_of_interest)\n",
    "\n",
    "    elevation_mean.append(m)\n",
    "    elevation_var.append(v)"
   ]
  },
  {
   "cell_type": "code",
   "execution_count": 9,
   "id": "7302c4c0-6393-4cb2-a66b-0998aa038bf3",
   "metadata": {},
   "outputs": [],
   "source": [
    "grid_data['elevation_mean'] = elevation_mean\n",
    "grid_data['elevation_var'] = elevation_var"
   ]
  },
  {
   "cell_type": "code",
   "execution_count": 10,
   "id": "c9bcd4f2-0ce7-4680-b16b-93084e52c54a",
   "metadata": {},
   "outputs": [],
   "source": [
    "grid_data.to_csv('../data/proc/grid_nasadem.csv', index=False)"
   ]
  },
  {
   "cell_type": "code",
   "execution_count": null,
   "id": "6441d8a6-75d4-4d83-9cbc-74bde82206b7",
   "metadata": {},
   "outputs": [],
   "source": []
  }
 ],
 "metadata": {
  "kernelspec": {
   "display_name": "Python 3 (ipykernel)",
   "language": "python",
   "name": "python3"
  },
  "language_info": {
   "codemirror_mode": {
    "name": "ipython",
    "version": 3
   },
   "file_extension": ".py",
   "mimetype": "text/x-python",
   "name": "python",
   "nbconvert_exporter": "python",
   "pygments_lexer": "ipython3",
   "version": "3.8.10"
  }
 },
 "nbformat": 4,
 "nbformat_minor": 5
}
