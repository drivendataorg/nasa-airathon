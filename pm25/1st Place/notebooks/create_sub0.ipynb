{
 "cells": [
  {
   "cell_type": "code",
   "execution_count": 1,
   "id": "a063d9bd-0d7d-496c-a853-ede890c7e155",
   "metadata": {},
   "outputs": [],
   "source": [
    "import pandas as pd\n",
    "import numpy as np"
   ]
  },
  {
   "cell_type": "code",
   "execution_count": 2,
   "id": "43c99dfb-2f15-4c75-8f3f-6dc5fac74668",
   "metadata": {},
   "outputs": [],
   "source": [
    "train_data = pd.read_csv('../data/train_labels.csv')\n",
    "test_data = pd.read_csv('../data/submission_format.csv')"
   ]
  },
  {
   "cell_type": "code",
   "execution_count": 3,
   "id": "d8778624-b068-494a-af3a-bfbeb6ec108f",
   "metadata": {},
   "outputs": [],
   "source": [
    "test_data['value'] = test_data['grid_id'].apply(\n",
    "    lambda x: train_data[train_data['grid_id'] == x]['value'].mean()\n",
    ")"
   ]
  },
  {
   "cell_type": "code",
   "execution_count": 4,
   "id": "8c8b9b57-3b4d-4f19-acb4-46395daa09ba",
   "metadata": {},
   "outputs": [
    {
     "data": {
      "text/html": [
       "<div>\n",
       "<style scoped>\n",
       "    .dataframe tbody tr th:only-of-type {\n",
       "        vertical-align: middle;\n",
       "    }\n",
       "\n",
       "    .dataframe tbody tr th {\n",
       "        vertical-align: top;\n",
       "    }\n",
       "\n",
       "    .dataframe thead th {\n",
       "        text-align: right;\n",
       "    }\n",
       "</style>\n",
       "<table border=\"1\" class=\"dataframe\">\n",
       "  <thead>\n",
       "    <tr style=\"text-align: right;\">\n",
       "      <th></th>\n",
       "      <th>datetime</th>\n",
       "      <th>grid_id</th>\n",
       "      <th>value</th>\n",
       "    </tr>\n",
       "  </thead>\n",
       "  <tbody>\n",
       "    <tr>\n",
       "      <th>0</th>\n",
       "      <td>2017-01-07T16:00:00Z</td>\n",
       "      <td>1X116</td>\n",
       "      <td>13.202672</td>\n",
       "    </tr>\n",
       "    <tr>\n",
       "      <th>1</th>\n",
       "      <td>2017-01-07T16:00:00Z</td>\n",
       "      <td>9Q6TA</td>\n",
       "      <td>14.093774</td>\n",
       "    </tr>\n",
       "    <tr>\n",
       "      <th>2</th>\n",
       "      <td>2017-01-07T16:00:00Z</td>\n",
       "      <td>KW43U</td>\n",
       "      <td>14.316362</td>\n",
       "    </tr>\n",
       "    <tr>\n",
       "      <th>3</th>\n",
       "      <td>2017-01-07T16:00:00Z</td>\n",
       "      <td>VR4WG</td>\n",
       "      <td>15.911455</td>\n",
       "    </tr>\n",
       "    <tr>\n",
       "      <th>4</th>\n",
       "      <td>2017-01-07T16:00:00Z</td>\n",
       "      <td>XJF9O</td>\n",
       "      <td>13.256226</td>\n",
       "    </tr>\n",
       "  </tbody>\n",
       "</table>\n",
       "</div>"
      ],
      "text/plain": [
       "               datetime grid_id      value\n",
       "0  2017-01-07T16:00:00Z   1X116  13.202672\n",
       "1  2017-01-07T16:00:00Z   9Q6TA  14.093774\n",
       "2  2017-01-07T16:00:00Z   KW43U  14.316362\n",
       "3  2017-01-07T16:00:00Z   VR4WG  15.911455\n",
       "4  2017-01-07T16:00:00Z   XJF9O  13.256226"
      ]
     },
     "execution_count": 4,
     "metadata": {},
     "output_type": "execute_result"
    }
   ],
   "source": [
    "test_data.head()"
   ]
  },
  {
   "cell_type": "code",
   "execution_count": 5,
   "id": "da5dae24-b4ec-4eca-801c-a8d2707f93dd",
   "metadata": {},
   "outputs": [],
   "source": [
    "test_data.to_csv('../data/submission_0.csv')"
   ]
  }
 ],
 "metadata": {
  "kernelspec": {
   "display_name": "Python 3 (ipykernel)",
   "language": "python",
   "name": "python3"
  },
  "language_info": {
   "codemirror_mode": {
    "name": "ipython",
    "version": 3
   },
   "file_extension": ".py",
   "mimetype": "text/x-python",
   "name": "python",
   "nbconvert_exporter": "python",
   "pygments_lexer": "ipython3",
   "version": "3.9.0"
  }
 },
 "nbformat": 4,
 "nbformat_minor": 5
}
