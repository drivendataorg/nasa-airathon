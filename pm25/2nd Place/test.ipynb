{
 "cells": [
  {
   "cell_type": "code",
   "execution_count": null,
   "metadata": {},
   "outputs": [],
   "source": [
    "# #GFS data takes a while to download from NCAR servers. \n",
    "# #Uncomment to download unprocessed GFS data from Google Drive\n",
    "# !gdown -O pm-gfs-interim.zip 1mzK2aU922huX9FRm7OJz-EQr0OfXZioQ\n",
    "# !unzip -qqn pm-gfs-interim.zip"
   ]
  },
  {
   "cell_type": "code",
   "execution_count": null,
   "metadata": {},
   "outputs": [],
   "source": [
    "# #Uncomment to download preprocessed data\n",
    "# !gdown -O pm-data.zip 1-EgerNIBSDM5gjQvs2j5B53CfW9MvAzW\n",
    "# !unzip -qqn pm-data.zip"
   ]
  },
  {
   "cell_type": "code",
   "execution_count": 2,
   "metadata": {},
   "outputs": [],
   "source": [
    "#Uncomment to download prepretrained models\n",
    "# !gdown -O pm-models.zip 1-Ia68IOdGNHvaWoLI6yfSF9NxuueLym8\n",
    "# !mkdir pm-models\n",
    "!unzip -qqn pm-models.zip -d pm-models/\n"
   ]
  },
  {
   "cell_type": "code",
   "execution_count": null,
   "metadata": {
    "id": "eWeDrZGrZTCG"
   },
   "outputs": [],
   "source": [
    "##Extract NASADEM elevation data\n",
    "!python3 src/data/extract_nasadem.py --data_dir data"
   ]
  },
  {
   "cell_type": "code",
   "execution_count": 2,
   "metadata": {
    "id": "USWfHMWnzhoj"
   },
   "outputs": [
    {
     "name": "stdout",
     "output_type": "stream",
     "text": [
      "using 32 processes\n",
      "QUEUEING TASKS | : 100%|██████████████████| 2444/2444 [00:00<00:00, 5883.63it/s]\n",
      "PROCESSING TASKS | : 100%|██████████████████| 2444/2444 [40:52<00:00,  1.00s/it]\n",
      "COLLECTING RESULTS | : 100%|████████████| 2444/2444 [00:00<00:00, 528613.81it/s]\n",
      "Saved data to data/interim/maiac/maiac_test.csv\n"
     ]
    }
   ],
   "source": [
    "##Extract MAIAC data from aws\n",
    "!python3 src/data/extract_maiac.py --data_dir data --path_satmeta data/raw/pm25_satellite_metadata.csv --stage test --s3url us_url --cleanup --n_jobs 32 \n"
   ]
  },
  {
   "cell_type": "code",
   "execution_count": null,
   "metadata": {
    "id": "E4Ywqhi8Bjnp"
   },
   "outputs": [],
   "source": [
    "##Extract GFS data\n",
    "!python3 src/data/extract_gfs.py --data_dir data --stage test --labels data/raw/submission_format.csv --n_jobs 16 "
   ]
  },
  {
   "cell_type": "code",
   "execution_count": 8,
   "metadata": {
    "id": "QoddBKCVY4Gq"
   },
   "outputs": [
    {
     "name": "stdout",
     "output_type": "stream",
     "text": [
      "QUEUEING TASKS | : 100%|███████████████| 13504/13504 [00:00<00:00, 22959.83it/s]\n",
      "PROCESSING TASKS | : 100%|████████████████| 13504/13504 [03:26<00:00, 65.54it/s]\n",
      "COLLECTING RESULTS | : 100%|██████████| 13504/13504 [00:00<00:00, 604223.18it/s]\n",
      "sys:1: PerformanceWarning: DataFrame is highly fragmented.  This is usually the result of calling `frame.insert` many times, which has poor performance.  Consider joining all columns at once using pd.concat(axis=1) instead.  To get a de-fragmented frame, use `newframe = frame.copy()`\n",
      "Saved data to data/processed/test/test_tail8.pkl\n",
      "QUEUEING TASKS | : 100%|███████████████| 13504/13504 [00:00<00:00, 24217.27it/s]\n",
      "PROCESSING TASKS | : 100%|████████████████| 13504/13504 [03:27<00:00, 64.97it/s]\n",
      "COLLECTING RESULTS | : 100%|██████████| 13504/13504 [00:00<00:00, 618481.11it/s]\n",
      "sys:1: PerformanceWarning: DataFrame is highly fragmented.  This is usually the result of calling `frame.insert` many times, which has poor performance.  Consider joining all columns at once using pd.concat(axis=1) instead.  To get a de-fragmented frame, use `newframe = frame.copy()`\n",
      "Saved data to data/processed/test/test_tail10.pkl\n",
      "QUEUEING TASKS | : 100%|███████████████| 13504/13504 [00:00<00:00, 23205.92it/s]\n",
      "PROCESSING TASKS | : 100%|████████████████| 13504/13504 [03:26<00:00, 65.26it/s]\n",
      "COLLECTING RESULTS | : 100%|██████████| 13504/13504 [00:00<00:00, 568873.41it/s]\n",
      "sys:1: PerformanceWarning: DataFrame is highly fragmented.  This is usually the result of calling `frame.insert` many times, which has poor performance.  Consider joining all columns at once using pd.concat(axis=1) instead.  To get a de-fragmented frame, use `newframe = frame.copy()`\n",
      "Saved data to data/processed/test/test_tail12.pkl\n"
     ]
    }
   ],
   "source": [
    "##Create final datasets\n",
    "!python3 src/data/create_dataset.py --data_dir data --stage test --labels data/raw/submission_format.csv --n_gfs 8 --n_jobs 4\n",
    "!python3 src/data/create_dataset.py --data_dir data --stage test --labels data/raw/submission_format.csv --n_gfs 10 --n_jobs 4\n",
    "!python3 src/data/create_dataset.py --data_dir data --stage test --labels data/raw/submission_format.csv --n_gfs 12 --n_jobs 4\n"
   ]
  },
  {
   "cell_type": "code",
   "execution_count": 3,
   "metadata": {
    "id": "FjYD6tljzhsI"
   },
   "outputs": [
    {
     "name": "stdout",
     "output_type": "stream",
     "text": [
      "##### RUNNING INFERENCE FOR DATASET 8 ##########\n",
      "location 2, fold: 0, samples:2507 4.347227857605272,30.86453188614086\n",
      "location 2, fold: 1, samples:2507 7.517943322969136,28.891477288786376\n",
      "location 2, fold: 2, samples:2507 5.563945362223738,30.216576848991924\n",
      "location 2, fold: 3, samples:2507 7.176982673480211,31.241455802315063\n",
      "location 2, fold: 4, samples:2507 9.028134998845683,28.15961723037245\n",
      "location 1, fold: 0, samples:6333 0.6344122219428749,60.12124442318062\n",
      "location 1, fold: 1, samples:6333 2.57244551470458,32.57510437953324\n",
      "location 1, fold: 2, samples:6333 2.6139003814105504,28.197874765411164\n",
      "location 1, fold: 3, samples:6333 2.6872031831692285,33.98659733505045\n",
      "location 1, fold: 4, samples:6333 0.29114658103774854,29.907534914309398\n",
      "location 0, fold: 0, samples:4664 17.002346351221263,388.39588290038506\n",
      "location 0, fold: 1, samples:4664 17.599256852313452,416.4992376648482\n",
      "location 0, fold: 2, samples:4664 12.002972630233197,404.6589271241406\n",
      "location 0, fold: 3, samples:4664 16.257017877342037,276.8085374980855\n",
      "location 0, fold: 4, samples:4664 14.039889637084777,358.0358477676245\n",
      "##### RUNNING INFERENCE FOR DATASET 10 ##########\n",
      "location 2, fold: 0, samples:2507 4.625379363177686,33.72074366581576\n",
      "location 2, fold: 1, samples:2507 5.958281144687329,30.380482224675696\n",
      "location 2, fold: 2, samples:2507 9.470455440172097,23.992275417423937\n",
      "location 2, fold: 3, samples:2507 7.235674209656266,31.463551581543477\n",
      "location 2, fold: 4, samples:2507 9.019109582086312,27.856744329387947\n",
      "location 1, fold: 0, samples:6333 1.3211576481467218,35.9720786765295\n",
      "location 1, fold: 1, samples:6333 3.007043485975949,23.416254889176592\n",
      "location 1, fold: 2, samples:6333 2.756197539027938,29.343091657119707\n",
      "location 1, fold: 3, samples:6333 -2.307975115877814,41.02196654468797\n",
      "location 1, fold: 4, samples:6333 -1.8915427490891341,30.616480305326295\n",
      "location 0, fold: 0, samples:4664 20.624418206363032,338.1948398228155\n",
      "location 0, fold: 1, samples:4664 17.122816570085746,354.4139422795803\n",
      "location 0, fold: 2, samples:4664 17.82563989769183,378.1831232691898\n",
      "location 0, fold: 3, samples:4664 22.350393390154004,209.75687609438015\n",
      "location 0, fold: 4, samples:4664 19.47260548825702,333.602206379182\n",
      "##### RUNNING INFERENCE FOR DATASET 12 ##########\n",
      "location 2, fold: 0, samples:2507 5.74081555880543,26.19999780300898\n",
      "location 2, fold: 1, samples:2507 9.184195999623435,20.21561321496038\n",
      "location 2, fold: 2, samples:2507 10.314686098633803,19.474819679724007\n",
      "location 2, fold: 3, samples:2507 6.1255835599287085,27.594559944163937\n",
      "location 2, fold: 4, samples:2507 7.523275341455696,26.171595629137805\n",
      "location 1, fold: 0, samples:6333 1.8661473786065004,43.203809930671326\n",
      "location 1, fold: 1, samples:6333 3.5218463132844473,25.7428396410723\n",
      "location 1, fold: 2, samples:6333 3.144817061640965,31.232278932442775\n",
      "location 1, fold: 3, samples:6333 2.1729078273031686,38.00523878161379\n",
      "location 1, fold: 4, samples:6333 -0.4641584643897271,28.36518771824088\n",
      "location 0, fold: 0, samples:4664 19.0099885031034,435.0674395363772\n",
      "location 0, fold: 1, samples:4664 21.166416231325734,387.249120372569\n",
      "location 0, fold: 2, samples:4664 18.22210796145955,396.29743623630003\n",
      "location 0, fold: 3, samples:4664 17.06955586966484,225.35933262442856\n",
      "location 0, fold: 4, samples:4664 18.272344548266354,376.3421907110082\n",
      "predictions range:  2.484890705347081 325.0949534980818\n",
      "Written predictions to Submission_oldmodel_newdata.csv\n"
     ]
    }
   ],
   "source": [
    "##Generate predictions - Writes test set predictions to Submission.csv\n",
    "!python3 src/inference.py --data_dir data --model_dir pm-models/models --stage test --subformat_path data/raw/submission_format.csv --output_path Submission_oldmodel_newdata.csv \n"
   ]
  },
  {
   "cell_type": "code",
   "execution_count": null,
   "metadata": {
    "id": "LlklnQAhWA8y"
   },
   "outputs": [],
   "source": []
  },
  {
   "cell_type": "code",
   "execution_count": null,
   "metadata": {
    "id": "6nyOyqtXd2c8"
   },
   "outputs": [],
   "source": [
    "# import pandas as pd\n",
    "# sub=pd.read_csv('Submission.csv')\n",
    "# sub"
   ]
  }
 ],
 "metadata": {
  "colab": {
   "collapsed_sections": [],
   "name": "airt-pm-test.ipynb",
   "provenance": []
  },
  "kernelspec": {
   "display_name": "Python 3 (ipykernel)",
   "language": "python",
   "name": "python3"
  },
  "language_info": {
   "codemirror_mode": {
    "name": "ipython",
    "version": 3
   },
   "file_extension": ".py",
   "mimetype": "text/x-python",
   "name": "python",
   "nbconvert_exporter": "python",
   "pygments_lexer": "ipython3",
   "version": "3.8.10"
  }
 },
 "nbformat": 4,
 "nbformat_minor": 4
}
