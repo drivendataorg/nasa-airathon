{
 "cells": [
  {
   "cell_type": "markdown",
   "id": "ecf9196d",
   "metadata": {},
   "source": [
    "<h1><center> NASA Airathon - NO2 Track </center></h1>\n",
    "\n",
    "### <center> Single day: extract OMI data for a specific location </center>\n",
    "\n",
    "<div style=\"text-align: center\"> \n",
    "    Dr. Sukanta Basu <br/> Associate Professor <br/> Delft University of Technology, The Netherlands <br/> Email: s.basu@tudelft.nl<br/> https://sites.google.com/view/sukantabasu/\n",
    "</div>"
   ]
  },
  {
   "cell_type": "markdown",
   "id": "3652a335",
   "metadata": {},
   "source": [
    "#### Log\n",
    "\n",
    "Last updated: 4th April, 2022"
   ]
  },
  {
   "cell_type": "markdown",
   "id": "e4fec4a0",
   "metadata": {},
   "source": [
    "#### User instructions \n",
    "\n",
    "1. Provide the latitude (LATx) and longitude (LONx) of the location of interest \n",
    "\n",
    "2. Provide the filename (fOMI) containing OMI data for a specific date. \n",
    "\n",
    "3. This notebook will extract OMI data for the location of interest and save it in testOMI.csv file inside data/singleday/processed/test/OMI/ directory. \n",
    "\n",
    "4. Furthermore, the latitude, longitude information will be saved in testOBS.csv file inside data/singleday/processed/test/STN/ directory.\n",
    "\n",
    "As an illustrative example, we use the centroid of the ZZ8JF grid (longitude: -117.3274620089189, latitude: 33.664840117597805). This information is available from the data/airathon/processed/grid_latlon.csv file. \n",
    "\n",
    "Also, we select August 24, 2021 as our case study date. The OMI filename is: 20210824T235959_omi_dl-la-tpe_0.nc. \n",
    "\n",
    "The OMI dataset is in hdf5 format. The NCKS tool, from the NCO package, is used to convert these files to netcdf format. Please use the following command for processing all the OMI files in a single directory: \n",
    "\n",
    "```\n",
    "for FILE in *.he5; do ncks $FILE ${FILE%.he5}.nc; done\n",
    "```"
   ]
  },
  {
   "cell_type": "markdown",
   "id": "a2b595ac",
   "metadata": {},
   "source": [
    "#### Load packages"
   ]
  },
  {
   "cell_type": "code",
   "execution_count": 1,
   "id": "a84a6b4d",
   "metadata": {},
   "outputs": [],
   "source": [
    "import numpy as np\n",
    "from matplotlib import pyplot as plt\n",
    "import pandas as pd\n",
    "from pathlib import Path\n",
    "import netCDF4"
   ]
  },
  {
   "cell_type": "markdown",
   "id": "6c3ec8c4",
   "metadata": {},
   "source": [
    "#### Directories"
   ]
  },
  {
   "cell_type": "code",
   "execution_count": 2,
   "id": "c10304d4",
   "metadata": {},
   "outputs": [],
   "source": [
    "ROOT_DIR    = '../../'\n",
    "\n",
    "#Only one day data is included in the repo_sukantabasu\n",
    "OMI_DIR     = ROOT_DIR + 'data/singleday/raw/OMI/'\n",
    "\n",
    "#Location of processed datasets\n",
    "EXTDATA_DIR = ROOT_DIR + 'data/singleday/processed/'"
   ]
  },
  {
   "cell_type": "markdown",
   "id": "f5fb23c8",
   "metadata": {},
   "source": [
    "#### Provide coordinates"
   ]
  },
  {
   "cell_type": "code",
   "execution_count": 3,
   "id": "70d79d7a",
   "metadata": {},
   "outputs": [],
   "source": [
    "LATx = 33.664840117597805\n",
    "LONx = -117.3274620089189"
   ]
  },
  {
   "cell_type": "markdown",
   "id": "50b6afb3",
   "metadata": {},
   "source": [
    "#### Provide date"
   ]
  },
  {
   "cell_type": "code",
   "execution_count": 4,
   "id": "a07f181e",
   "metadata": {},
   "outputs": [],
   "source": [
    "YR = 2021\n",
    "MO = 8\n",
    "DY = 24"
   ]
  },
  {
   "cell_type": "markdown",
   "id": "6a9d42db",
   "metadata": {},
   "source": [
    "#### OMI file name"
   ]
  },
  {
   "cell_type": "code",
   "execution_count": 5,
   "id": "9cc16b6c",
   "metadata": {},
   "outputs": [],
   "source": [
    "fOMI = str(YR) + str(MO).zfill(2) + str(DY).zfill(2) + 'T235959_omi_dl-la-tpe_0.nc'\n",
    "f    = OMI_DIR + fOMI"
   ]
  },
  {
   "cell_type": "markdown",
   "id": "64b1f562",
   "metadata": {},
   "source": [
    "#### Compute nearest grid point"
   ]
  },
  {
   "cell_type": "code",
   "execution_count": 6,
   "id": "feb4d868",
   "metadata": {},
   "outputs": [],
   "source": [
    "def nearestGridFAST(LAT,LON,LATx,LONx):\n",
    "    \n",
    "    dLAT = np.abs(LAT - LATx)\n",
    "    dLON = np.abs(LON - LONx)\n",
    "    \n",
    "    dTOT = dLAT + dLON #taxi-cab distance\n",
    "    \n",
    "    #Interesting function; https://stackoverflow.com/questions/3230067/numpy-minimum-in-row-column-format\n",
    "    r_min, c_min = np.unravel_index(dTOT.argmin(), dTOT.shape)\n",
    "    \n",
    "    return r_min, c_min"
   ]
  },
  {
   "cell_type": "markdown",
   "id": "58c598ea",
   "metadata": {},
   "source": [
    "#### Grid structure of OMI data"
   ]
  },
  {
   "cell_type": "code",
   "execution_count": 7,
   "id": "76be862f",
   "metadata": {},
   "outputs": [],
   "source": [
    "LATomi = np.arange(-90, 90, 0.25)\n",
    "LONomi = np.arange(-180, 180, 0.25)\n",
    "LONomi2d, LATomi2d = np.meshgrid(LONomi, LATomi)"
   ]
  },
  {
   "cell_type": "markdown",
   "id": "6b2a64c7",
   "metadata": {},
   "source": [
    "#### Extract OMI data "
   ]
  },
  {
   "cell_type": "code",
   "execution_count": 8,
   "id": "c18babae",
   "metadata": {},
   "outputs": [
    {
     "name": "stdout",
     "output_type": "stream",
     "text": [
      "(495, 251, 6.7475924, 3.842983)\n"
     ]
    }
   ],
   "source": [
    "dataOMI   = netCDF4.Dataset(f,'r')\n",
    "\n",
    "NO2       = dataOMI.groups['HDFEOS'].groups['GRIDS'].groups['ColumnAmountNO2'].groups['Data Fields'].variables['ColumnAmountNO2CloudScreened'][:]            \n",
    "NO2Tr     = dataOMI.groups['HDFEOS'].groups['GRIDS'].groups['ColumnAmountNO2'].groups['Data Fields'].variables['ColumnAmountNO2TropCloudScreened'][:]  \n",
    "\n",
    "NO2       = NO2/1e15\n",
    "NO2Tr     = NO2Tr/1e15\n",
    "\n",
    "r_min, c_min = nearestGridFAST(LATomi2d,LONomi2d,LATx,LONx)\n",
    "\n",
    "#Note: maskedArray.data takes care of the mask\n",
    "#All the arrays are of size 720x1440\n",
    "NO2_i     = NO2.data[r_min][c_min]\n",
    "NO2Tr_i   = NO2Tr.data[r_min][c_min]\n",
    "\n",
    "if NO2_i < 0:\n",
    "    NO2_i = np.nan\n",
    "if NO2Tr_i < 0:\n",
    "    NO2Tr_i = np.nan\n",
    "\n",
    "print((r_min,c_min,NO2_i,NO2Tr_i))\n"
   ]
  },
  {
   "cell_type": "markdown",
   "id": "ef0ff294",
   "metadata": {},
   "source": [
    "#### Save OMI data in a csv file"
   ]
  },
  {
   "cell_type": "code",
   "execution_count": 9,
   "id": "64090bbd",
   "metadata": {},
   "outputs": [
    {
     "name": "stdout",
     "output_type": "stream",
     "text": [
      "    NO2_OMI  NO2Tr_OMI\n",
      "0  6.747592   3.842983\n"
     ]
    }
   ],
   "source": [
    "#Combine variables in an array\n",
    "D = np.array([[NO2_i,NO2Tr_i]])\n",
    "\n",
    "#Create pandas dataframes and save it as csv files   \n",
    "df_omi = pd.DataFrame(data=D)\n",
    "df_omi.columns = ['NO2_OMI','NO2Tr_OMI'] \n",
    "print(df_omi)\n",
    "\n",
    "df_omi.to_csv(EXTDATA_DIR + 'test/OMI/' + 'testOMI.csv', index=False)"
   ]
  },
  {
   "cell_type": "markdown",
   "id": "e4a2ca5c",
   "metadata": {},
   "source": [
    "#### Save latitude & longitude data in a csv file"
   ]
  },
  {
   "cell_type": "code",
   "execution_count": 10,
   "id": "35f83699",
   "metadata": {},
   "outputs": [
    {
     "name": "stdout",
     "output_type": "stream",
     "text": [
      "    longitude  latitude\n",
      "0 -117.327462  33.66484\n"
     ]
    }
   ],
   "source": [
    "#Combine variables in an array\n",
    "D = np.array([[LONx,LATx]])\n",
    "\n",
    "#Create pandas dataframes and save it as csv files   \n",
    "df_obs = pd.DataFrame(data=D)\n",
    "df_obs.columns = ['longitude','latitude'] \n",
    "print(df_obs)\n",
    "\n",
    "df_obs.to_csv(EXTDATA_DIR + 'test/STN/' + 'testOBS.csv', index=False)"
   ]
  }
 ],
 "metadata": {
  "kernelspec": {
   "display_name": "Python 3 (ipykernel)",
   "language": "python",
   "name": "python3"
  },
  "language_info": {
   "codemirror_mode": {
    "name": "ipython",
    "version": 3
   },
   "file_extension": ".py",
   "mimetype": "text/x-python",
   "name": "python",
   "nbconvert_exporter": "python",
   "pygments_lexer": "ipython3",
   "version": "3.9.10"
  }
 },
 "nbformat": 4,
 "nbformat_minor": 5
}
