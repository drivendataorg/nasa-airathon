{
 "cells": [
  {
   "cell_type": "markdown",
   "id": "206345b1",
   "metadata": {},
   "source": [
    "<h1><center> NASA Airathon - NO2 Track </center></h1>\n",
    "\n",
    "### <center> Preprocessing of Test Data </center>\n",
    "\n",
    "<div style=\"text-align: center\"> \n",
    "    Dr. Sukanta Basu <br/> Associate Professor <br/> Delft University of Technology, The Netherlands <br/> Email: s.basu@tudelft.nl<br/> https://sites.google.com/view/sukantabasu/\n",
    "</div>"
   ]
  },
  {
   "cell_type": "markdown",
   "id": "468e5742",
   "metadata": {},
   "source": [
    "#### Log\n",
    "\n",
    "Last updated: 4th April, 2022"
   ]
  },
  {
   "cell_type": "markdown",
   "id": "43540b67",
   "metadata": {},
   "source": [
    "#### User instructions\n",
    "\n",
    "Running this notebook will produce the **testOBS.csv** file inside the 'path/to/repo_sukantabasu/data/airathon/processed/test/STN' folder. This file contains datetime, ID, longitude, and latitude values."
   ]
  },
  {
   "cell_type": "markdown",
   "id": "4a325c56",
   "metadata": {},
   "source": [
    "#### Load packages"
   ]
  },
  {
   "cell_type": "code",
   "execution_count": 1,
   "id": "f399554a",
   "metadata": {},
   "outputs": [],
   "source": [
    "import numpy as np\n",
    "from matplotlib import pyplot as plt\n",
    "import pandas as pd\n",
    "from pathlib import Path"
   ]
  },
  {
   "cell_type": "markdown",
   "id": "746de2a7",
   "metadata": {},
   "source": [
    "#### Directories"
   ]
  },
  {
   "cell_type": "code",
   "execution_count": 2,
   "id": "f13f26ca",
   "metadata": {},
   "outputs": [],
   "source": [
    "ROOT_DIR    = '../../'\n",
    "\n",
    "#Location of raw datasets\n",
    "DATA_DIR    = ROOT_DIR + 'data/airathon/raw/STN/'\n",
    "\n",
    "#Location of processed datasets\n",
    "EXTDATA_DIR = ROOT_DIR + 'data/airathon/processed/'"
   ]
  },
  {
   "cell_type": "markdown",
   "id": "bd61a231",
   "metadata": {},
   "source": [
    "#### Load Train & Grid Metadata"
   ]
  },
  {
   "cell_type": "code",
   "execution_count": 3,
   "id": "f2d218bd",
   "metadata": {},
   "outputs": [],
   "source": [
    "df_tst = pd.read_csv(DATA_DIR    + 'submission_format.csv')\n",
    "df_grd = pd.read_csv(EXTDATA_DIR + 'grid_latlon.csv') #Contains: ID, latitude, longitude"
   ]
  },
  {
   "cell_type": "markdown",
   "id": "ffd979b7",
   "metadata": {},
   "source": [
    "#### Extract variables"
   ]
  },
  {
   "cell_type": "code",
   "execution_count": 4,
   "id": "a33b2ed5",
   "metadata": {},
   "outputs": [],
   "source": [
    "datetime = df_tst['datetime'].values\n",
    "ID       = df_tst['grid_id'].values"
   ]
  },
  {
   "cell_type": "markdown",
   "id": "9bff7950",
   "metadata": {},
   "source": [
    "#### For each grid id in the test file, extract lat-lon values using grid_metadata"
   ]
  },
  {
   "cell_type": "code",
   "execution_count": 5,
   "id": "c563de91",
   "metadata": {},
   "outputs": [
    {
     "name": "stdout",
     "output_type": "stream",
     "text": [
      "[['3A3IE' -117.91136694359656 34.1494450091748]\n",
      " ['3S31A' -117.9562827078025 33.81424261935068]\n",
      " ['7II4T' -118.04611423621448 34.00062937561966]\n",
      " ...\n",
      " ['Z0VWC' -118.1808615288324 33.776916392454254]\n",
      " ['ZP1FZ' -117.8664511793906 34.14944500917479]\n",
      " ['ZZ8JF' -117.3274620089189 33.664840117597805]]\n"
     ]
    }
   ],
   "source": [
    "nTst = np.size(ID)\n",
    "\n",
    "for i in range(nTst):\n",
    "    latlon = df_grd[df_grd['ID'].str.contains(ID[i])]\n",
    "    if i == 0:\n",
    "        latlonAll = latlon\n",
    "    else:\n",
    "        latlonAll = np.vstack((latlonAll,latlon))\n",
    "    \n",
    "print(latlonAll)"
   ]
  },
  {
   "cell_type": "markdown",
   "id": "8f715ef5",
   "metadata": {},
   "source": [
    "#### Create new dataframe"
   ]
  },
  {
   "cell_type": "code",
   "execution_count": 6,
   "id": "8d8a85e6",
   "metadata": {},
   "outputs": [
    {
     "name": "stdout",
     "output_type": "stream",
     "text": [
      "                   datetime     ID   longitude   latitude\n",
      "0      2018-09-08T08:00:00Z  3A3IE -117.911367  34.149445\n",
      "1      2018-09-08T08:00:00Z  3S31A -117.956283  33.814243\n",
      "2      2018-09-08T08:00:00Z  7II4T -118.046114  34.000629\n",
      "3      2018-09-08T08:00:00Z  8BOQH -118.450356  34.037858\n",
      "4      2018-09-08T08:00:00Z  A2FBI -117.417294  34.000629\n",
      "...                     ...    ...         ...        ...\n",
      "16345  2021-08-24T08:00:00Z  WT52R -116.878304  33.926124\n",
      "16346  2021-08-24T08:00:00Z  X5DKW -117.596957  34.037858\n",
      "16347  2021-08-24T08:00:00Z  Z0VWC -118.180862  33.776916\n",
      "16348  2021-08-24T08:00:00Z  ZP1FZ -117.866451  34.149445\n",
      "16349  2021-08-24T08:00:00Z  ZZ8JF -117.327462   33.66484\n",
      "\n",
      "[16350 rows x 4 columns]\n"
     ]
    }
   ],
   "source": [
    "df_new = pd.DataFrame(data=latlonAll,columns=['ID','longitude','latitude'])\n",
    "df_new.insert(0, 'datetime', datetime)\n",
    "print(df_new)"
   ]
  },
  {
   "cell_type": "markdown",
   "id": "1c5cffd5",
   "metadata": {},
   "source": [
    "#### Save dataframe to a csv file"
   ]
  },
  {
   "cell_type": "code",
   "execution_count": 7,
   "id": "8a56ba11",
   "metadata": {},
   "outputs": [],
   "source": [
    "df_new.to_csv(EXTDATA_DIR + 'test/STN/' + 'testOBS.csv', index=False)"
   ]
  }
 ],
 "metadata": {
  "interpreter": {
   "hash": "af9501fc74fe6e40fad117f664a0d0009d5eafaa8c2d8d12d4670dbf03338fe2"
  },
  "kernelspec": {
   "display_name": "Python 3.9.12 ('3rd')",
   "language": "python",
   "name": "python3"
  },
  "language_info": {
   "codemirror_mode": {
    "name": "ipython",
    "version": 3
   },
   "file_extension": ".py",
   "mimetype": "text/x-python",
   "name": "python",
   "nbconvert_exporter": "python",
   "pygments_lexer": "ipython3",
   "version": "3.9.12"
  }
 },
 "nbformat": 4,
 "nbformat_minor": 5
}
