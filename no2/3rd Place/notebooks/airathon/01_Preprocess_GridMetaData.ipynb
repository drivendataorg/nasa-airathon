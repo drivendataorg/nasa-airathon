{
 "cells": [
  {
   "cell_type": "markdown",
   "id": "206345b1",
   "metadata": {},
   "source": [
    "<h1><center> NASA Airathon - NO2 Track </center></h1>\n",
    "\n",
    "### <center> Preprocessing of Grid Metadata </center>\n",
    "\n",
    "<div style=\"text-align: center\"> \n",
    "    Dr. Sukanta Basu <br/> Associate Professor <br/> Delft University of Technology, The Netherlands <br/> Email: s.basu@tudelft.nl<br/> https://sites.google.com/view/sukantabasu/\n",
    "</div>"
   ]
  },
  {
   "cell_type": "markdown",
   "id": "468e5742",
   "metadata": {},
   "source": [
    "#### Log\n",
    "\n",
    "Last updated: 4th April, 2022"
   ]
  },
  {
   "cell_type": "markdown",
   "id": "75505140",
   "metadata": {},
   "source": [
    "#### User instructions\n",
    "\n",
    "Running this notebook will produce the **grid_latlon.csv** file inside the 'path/to/repo_sukantabasu/data/airathon/processed/' folder. This file contains the centroid coordinates (i.e., latitude, longitude) for each grid."
   ]
  },
  {
   "cell_type": "markdown",
   "id": "4a325c56",
   "metadata": {},
   "source": [
    "#### Load packages"
   ]
  },
  {
   "cell_type": "code",
   "execution_count": 1,
   "id": "f399554a",
   "metadata": {},
   "outputs": [],
   "source": [
    "import numpy as np\n",
    "from matplotlib import pyplot as plt\n",
    "import pandas as pd\n",
    "from pathlib import Path\n",
    "\n",
    "from shapely import wkt"
   ]
  },
  {
   "cell_type": "markdown",
   "id": "746de2a7",
   "metadata": {},
   "source": [
    "#### Directories"
   ]
  },
  {
   "cell_type": "code",
   "execution_count": 2,
   "id": "f13f26ca",
   "metadata": {},
   "outputs": [],
   "source": [
    "ROOT_DIR    = '../../'\n",
    "\n",
    "#Location of raw datasets\n",
    "DATA_DIR    = ROOT_DIR + 'data/airathon/raw/STN/'\n",
    "\n",
    "#Location of processed datasets\n",
    "EXTDATA_DIR = ROOT_DIR + 'data/airathon/processed/'"
   ]
  },
  {
   "cell_type": "markdown",
   "id": "bd61a231",
   "metadata": {},
   "source": [
    "#### Load grid metadata"
   ]
  },
  {
   "cell_type": "code",
   "execution_count": 3,
   "id": "f2d218bd",
   "metadata": {},
   "outputs": [],
   "source": [
    "df_grd = pd.read_csv(DATA_DIR + 'grid_metadata.csv')"
   ]
  },
  {
   "cell_type": "markdown",
   "id": "ffd979b7",
   "metadata": {},
   "source": [
    "#### Extract variables"
   ]
  },
  {
   "cell_type": "code",
   "execution_count": 4,
   "id": "a33b2ed5",
   "metadata": {},
   "outputs": [],
   "source": [
    "ID   = df_grd['grid_id'].values\n",
    "WKT  = df_grd['wkt'].values\n",
    "nWKT = np.size(WKT) "
   ]
  },
  {
   "cell_type": "markdown",
   "id": "085ff9dd",
   "metadata": {},
   "source": [
    "#### Compute centroids"
   ]
  },
  {
   "cell_type": "code",
   "execution_count": 5,
   "id": "80b606a2",
   "metadata": {},
   "outputs": [],
   "source": [
    "for i in range(nWKT):\n",
    "    poly = wkt.loads(WKT[i])\n",
    "    cntr = poly.centroid.coords[0]\n",
    "    if i == 0:\n",
    "        cntrAll = cntr\n",
    "    else:\n",
    "        cntrAll = np.vstack((cntrAll,cntr))"
   ]
  },
  {
   "cell_type": "markdown",
   "id": "8f715ef5",
   "metadata": {},
   "source": [
    "#### Create new dataframe"
   ]
  },
  {
   "cell_type": "code",
   "execution_count": 6,
   "id": "8d8a85e6",
   "metadata": {},
   "outputs": [
    {
     "name": "stdout",
     "output_type": "stream",
     "text": [
      "       ID   longitude   latitude\n",
      "0   1X116  121.503307  24.998015\n",
      "1   1Z2W7   77.282074  28.566368\n",
      "2   3A3IE -117.911367  34.149445\n",
      "3   3S31A -117.956283  33.814243\n",
      "4   6EIL6   77.057495  28.566368\n",
      "..    ...         ...        ...\n",
      "63  YHOPV   77.282074  28.645235\n",
      "64  Z0VWC -118.180862  33.776916\n",
      "65  ZF3ZW   77.057495  28.684646\n",
      "66  ZP1FZ -117.866451  34.149445\n",
      "67  ZZ8JF -117.327462  33.664840\n",
      "\n",
      "[68 rows x 3 columns]\n"
     ]
    }
   ],
   "source": [
    "df_new = pd.DataFrame(data=cntrAll,columns=['longitude','latitude'])\n",
    "df_new.insert(0, 'ID', ID)\n",
    "print(df_new)"
   ]
  },
  {
   "cell_type": "markdown",
   "id": "1c5cffd5",
   "metadata": {},
   "source": [
    "#### Save dataframe to a csv file"
   ]
  },
  {
   "cell_type": "code",
   "execution_count": 7,
   "id": "8a56ba11",
   "metadata": {},
   "outputs": [],
   "source": [
    "df_new.to_csv(EXTDATA_DIR+'grid_latlon.csv', index=False)"
   ]
  }
 ],
 "metadata": {
  "interpreter": {
   "hash": "af9501fc74fe6e40fad117f664a0d0009d5eafaa8c2d8d12d4670dbf03338fe2"
  },
  "kernelspec": {
   "display_name": "Python 3.9.12 ('3rd')",
   "language": "python",
   "name": "python3"
  },
  "language_info": {
   "codemirror_mode": {
    "name": "ipython",
    "version": 3
   },
   "file_extension": ".py",
   "mimetype": "text/x-python",
   "name": "python",
   "nbconvert_exporter": "python",
   "pygments_lexer": "ipython3",
   "version": "3.9.12"
  }
 },
 "nbformat": 4,
 "nbformat_minor": 5
}
