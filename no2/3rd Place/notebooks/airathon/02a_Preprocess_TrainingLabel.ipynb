{
 "cells": [
  {
   "cell_type": "markdown",
   "id": "206345b1",
   "metadata": {},
   "source": [
    "<h1><center> NASA Airathon - NO2 Track </center></h1>\n",
    "\n",
    "### <center> Preprocessing of Training Labels </center>\n",
    "\n",
    "<div style=\"text-align: center\"> \n",
    "    Dr. Sukanta Basu <br/> Associate Professor <br/> Delft University of Technology, The Netherlands <br/> Email: s.basu@tudelft.nl<br/> https://sites.google.com/view/sukantabasu/\n",
    "</div>"
   ]
  },
  {
   "cell_type": "markdown",
   "id": "468e5742",
   "metadata": {},
   "source": [
    "#### Log\n",
    "\n",
    "Last updated: 4th April, 2022"
   ]
  },
  {
   "cell_type": "markdown",
   "id": "c6b5341e",
   "metadata": {},
   "source": [
    "#### User instructions\n",
    "\n",
    "Running this notebook will produce the **trainOBS.csv** file inside the 'path/to/repo_sukantabasu/data/airathon/processed/train/STN' folder. This file contains datetime, ID, longitude, latitude, and measured NO2 values."
   ]
  },
  {
   "cell_type": "markdown",
   "id": "4a325c56",
   "metadata": {},
   "source": [
    "#### Load packages"
   ]
  },
  {
   "cell_type": "code",
   "execution_count": 1,
   "id": "f399554a",
   "metadata": {},
   "outputs": [],
   "source": [
    "import numpy as np\n",
    "from matplotlib import pyplot as plt\n",
    "import pandas as pd\n",
    "from pathlib import Path"
   ]
  },
  {
   "cell_type": "markdown",
   "id": "746de2a7",
   "metadata": {},
   "source": [
    "#### Directories"
   ]
  },
  {
   "cell_type": "code",
   "execution_count": 2,
   "id": "f13f26ca",
   "metadata": {},
   "outputs": [],
   "source": [
    "ROOT_DIR    = '../../'\n",
    "\n",
    "#Location of raw datasets\n",
    "DATA_DIR    = ROOT_DIR + 'data/airathon/raw/STN/'\n",
    "\n",
    "#Location of processed datasets\n",
    "EXTDATA_DIR = ROOT_DIR + 'data/airathon/processed/'"
   ]
  },
  {
   "cell_type": "markdown",
   "id": "bd61a231",
   "metadata": {},
   "source": [
    "#### Load Train & Grid Metadata"
   ]
  },
  {
   "cell_type": "code",
   "execution_count": 3,
   "id": "f2d218bd",
   "metadata": {},
   "outputs": [],
   "source": [
    "df_trn = pd.read_csv(DATA_DIR    + 'train_labels.csv')\n",
    "df_grd = pd.read_csv(EXTDATA_DIR + 'grid_latlon.csv') #Contains: ID, latitude, longitude"
   ]
  },
  {
   "cell_type": "markdown",
   "id": "ffd979b7",
   "metadata": {},
   "source": [
    "#### Extract variables"
   ]
  },
  {
   "cell_type": "code",
   "execution_count": 4,
   "id": "a33b2ed5",
   "metadata": {},
   "outputs": [],
   "source": [
    "datetime = df_trn['datetime'].values\n",
    "ID       = df_trn['grid_id'].values\n",
    "NO2      = df_trn['value'].values"
   ]
  },
  {
   "cell_type": "markdown",
   "id": "9bff7950",
   "metadata": {},
   "source": [
    "#### For each grid id in the training label file, extract lat-lon values using grid_metadata"
   ]
  },
  {
   "cell_type": "code",
   "execution_count": 5,
   "id": "c563de91",
   "metadata": {},
   "outputs": [
    {
     "name": "stdout",
     "output_type": "stream",
     "text": [
      "[['3A3IE' -117.91136694359656 34.1494450091748]\n",
      " ['3S31A' -117.9562827078025 33.81424261935068]\n",
      " ['7II4T' -118.04611423621448 34.00062937561966]\n",
      " ...\n",
      " ['VYH7U' 77.05749508102988 28.763422811135467]\n",
      " ['YHOPV' 77.28207390205976 28.64523466998896]\n",
      " ['ZF3ZW' 77.05749508102987 28.684645547971925]]\n"
     ]
    }
   ],
   "source": [
    "nTrn = np.size(NO2)\n",
    "\n",
    "for i in range(nTrn):\n",
    "    latlon = df_grd[df_grd['ID'].str.contains(ID[i])]\n",
    "    if i == 0:\n",
    "        latlonAll = latlon\n",
    "    else:\n",
    "        latlonAll = np.vstack((latlonAll,latlon))\n",
    "    \n",
    "print(latlonAll)"
   ]
  },
  {
   "cell_type": "markdown",
   "id": "8f715ef5",
   "metadata": {},
   "source": [
    "#### Create new dataframe"
   ]
  },
  {
   "cell_type": "code",
   "execution_count": 6,
   "id": "8d8a85e6",
   "metadata": {},
   "outputs": [
    {
     "name": "stdout",
     "output_type": "stream",
     "text": [
      "                   datetime     ID   longitude   latitude        NO2\n",
      "0      2019-01-01T08:00:00Z  3A3IE -117.911367  34.149445   8.695000\n",
      "1      2019-01-01T08:00:00Z  3S31A -117.956283  33.814243  10.496667\n",
      "2      2019-01-01T08:00:00Z  7II4T -118.046114  34.000629  37.208333\n",
      "3      2019-01-01T08:00:00Z  8BOQH -118.450356  34.037858   9.791667\n",
      "4      2019-01-01T08:00:00Z  A2FBI -117.417294  34.000629   4.308333\n",
      "...                     ...    ...         ...        ...        ...\n",
      "36126  2020-10-31T18:30:00Z  UC74Z   77.282074  28.526913  64.384211\n",
      "36127  2020-10-31T18:30:00Z  VXNN3   77.147327  28.802789  46.573913\n",
      "36128  2020-10-31T18:30:00Z  VYH7U   77.057495  28.763423  36.300000\n",
      "36129  2020-10-31T18:30:00Z  YHOPV   77.282074  28.645235  68.415455\n",
      "36130  2020-10-31T18:30:00Z  ZF3ZW   77.057495  28.684646  41.390909\n",
      "\n",
      "[36131 rows x 5 columns]\n"
     ]
    }
   ],
   "source": [
    "df_new = pd.DataFrame(data=latlonAll,columns=['ID','longitude','latitude'])\n",
    "df_new.insert(0, 'datetime', datetime)\n",
    "df_new.insert(4, 'NO2', NO2)\n",
    "print(df_new)"
   ]
  },
  {
   "cell_type": "markdown",
   "id": "1c5cffd5",
   "metadata": {},
   "source": [
    "#### Save dataframe to a csv file"
   ]
  },
  {
   "cell_type": "code",
   "execution_count": 7,
   "id": "8a56ba11",
   "metadata": {},
   "outputs": [],
   "source": [
    "df_new.to_csv(EXTDATA_DIR + 'train/STN/' + 'trainOBS.csv', index=False)"
   ]
  }
 ],
 "metadata": {
  "interpreter": {
   "hash": "af9501fc74fe6e40fad117f664a0d0009d5eafaa8c2d8d12d4670dbf03338fe2"
  },
  "kernelspec": {
   "display_name": "Python 3.9.12 ('3rd')",
   "language": "python",
   "name": "python3"
  },
  "language_info": {
   "codemirror_mode": {
    "name": "ipython",
    "version": 3
   },
   "file_extension": ".py",
   "mimetype": "text/x-python",
   "name": "python",
   "nbconvert_exporter": "python",
   "pygments_lexer": "ipython3",
   "version": "3.9.12"
  }
 },
 "nbformat": 4,
 "nbformat_minor": 5
}
