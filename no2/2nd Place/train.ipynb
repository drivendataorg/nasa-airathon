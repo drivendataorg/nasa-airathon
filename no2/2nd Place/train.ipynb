{
 "cells": [
  {
   "cell_type": "code",
   "execution_count": 3,
   "metadata": {},
   "outputs": [],
   "source": [
    "# #GFS data takes a while to download from NCAR servers. \n",
    "# #Uncomment to download unprocessed GFS data from Google Drive\n",
    "# !gdown -O no2-gfs-interim.zip 1--hpCypDV7HZSQoW-Vv8xSYd6jQtEYHl\n",
    "# !unzip -qqn no2-gfs-interim.zip"
   ]
  },
  {
   "cell_type": "code",
   "execution_count": null,
   "metadata": {},
   "outputs": [],
   "source": [
    "# #Uncomment to download preprocessed data\n",
    "# !gdown -O no2-data.zip 1yg6dwzr6wYolTpzFsQI8GkkfsfGf-Hwa\n",
    "# !unzip -qqn no2-data.zip"
   ]
  },
  {
   "cell_type": "code",
   "execution_count": null,
   "metadata": {},
   "outputs": [],
   "source": []
  },
  {
   "cell_type": "code",
   "execution_count": null,
   "metadata": {
    "id": "VFPqlDnti3jA"
   },
   "outputs": [],
   "source": [
    "##Extract NASADEM elevation data\n",
    "!python src/data/extract_nasadem.py --data_dir data"
   ]
  },
  {
   "cell_type": "code",
   "execution_count": null,
   "metadata": {
    "id": "bX3nem-eNjez"
   },
   "outputs": [],
   "source": [
    "##Extract OMI data from aws\n",
    "!python src/data/extract_omi.py --data_dir data --stage train --path_satmeta data/raw/no2_satellite_metadata_0AF3h09.csv --s3url us_url --n_jobs 16 --cleanup\n"
   ]
  },
  {
   "cell_type": "code",
   "execution_count": null,
   "metadata": {
    "id": "66ElGrF6jRht"
   },
   "outputs": [],
   "source": [
    "##Extract TROPOMI data from aws\n",
    "!python src/data/extract_tropomi.py --data_dir data --stage train --path_satmeta data/raw/no2_satellite_metadata_0AF3h09.csv --n_jobs 36 --s3url us_url --cleanup\n"
   ]
  },
  {
   "cell_type": "code",
   "execution_count": null,
   "metadata": {
    "id": "E4Ywqhi8Bjnp"
   },
   "outputs": [],
   "source": [
    "##Extract GFS data\n",
    "!python src/data/extract_gfs.py --data_dir data --stage train --labels data/raw/train_labels.csv --n_jobs 16 \n"
   ]
  },
  {
   "cell_type": "code",
   "execution_count": null,
   "metadata": {
    "id": "USWfHMWnzhoj"
   },
   "outputs": [],
   "source": [
    "#Extract GEOS-CF assim/ hindcasts\n",
    "!python src/data/extract_geos.py --data_dir data --stage train --labels data/raw/train_labels.csv --n_jobs 16 --cleanup\n"
   ]
  },
  {
   "cell_type": "code",
   "execution_count": null,
   "metadata": {
    "id": "HNO50EY21JtJ"
   },
   "outputs": [],
   "source": [
    "##Create final datasets\n",
    "!python src/data/create_dataset.py --data_dir data --stage train --labels data/raw/train_labels.csv --n_gfs 4 --n_jobs 4\n",
    "!python src/data/create_dataset.py --data_dir data --stage train --labels data/raw/train_labels.csv --n_gfs 8 --n_jobs 4\n"
   ]
  },
  {
   "cell_type": "code",
   "execution_count": null,
   "metadata": {
    "id": "TfQDtqz5LxeU"
   },
   "outputs": [],
   "source": [
    "#Train models\n",
    "!python src/train.py --data_dir data --model_dir models"
   ]
  },
  {
   "cell_type": "code",
   "execution_count": null,
   "metadata": {
    "id": "FjYD6tljzhsI"
   },
   "outputs": [],
   "source": []
  }
 ],
 "metadata": {
  "colab": {
   "collapsed_sections": [],
   "name": "airt-no2-trainipynb",
   "provenance": []
  },
  "kernelspec": {
   "display_name": "Python 3 (ipykernel)",
   "language": "python",
   "name": "python3"
  },
  "language_info": {
   "codemirror_mode": {
    "name": "ipython",
    "version": 3
   },
   "file_extension": ".py",
   "mimetype": "text/x-python",
   "name": "python",
   "nbconvert_exporter": "python",
   "pygments_lexer": "ipython3",
   "version": "3.7.13"
  }
 },
 "nbformat": 4,
 "nbformat_minor": 1
}
