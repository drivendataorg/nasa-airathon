{
 "cells": [
  {
   "cell_type": "code",
   "execution_count": null,
   "metadata": {},
   "outputs": [],
   "source": [
    "# #GFS data takes a while to download from NCAR servers. \n",
    "# #Uncomment to download unprocessed GFS data from Google Drive\n",
    "# !gdown -O no2-gfs-interim.zip 1--hpCypDV7HZSQoW-Vv8xSYd6jQtEYHl\n",
    "# !unzip -qqn no2-gfs-interim.zip"
   ]
  },
  {
   "cell_type": "code",
   "execution_count": null,
   "metadata": {},
   "outputs": [],
   "source": [
    "# #Uncomment to download preprocessed data\n",
    "# !gdown -O no2-data.zip 1yg6dwzr6wYolTpzFsQI8GkkfsfGf-Hwa\n",
    "# !unzip -qqn no2-data.zip"
   ]
  },
  {
   "cell_type": "code",
   "execution_count": 2,
   "metadata": {},
   "outputs": [],
   "source": [
    "# #Uncomment to download prepretrained models\n",
    "# !gdown -O no2-models.zip 1-3g4ClmN5D24TDaoNNNPg7YyTHLZG-gL\n",
    "# !unzip -qqn no2-models.zip\n"
   ]
  },
  {
   "cell_type": "code",
   "execution_count": null,
   "metadata": {
    "id": "VFPqlDnti3jA"
   },
   "outputs": [],
   "source": [
    "##Extract NASADEM elevation data \n",
    "!python src/data/extract_nasadem.py --data_dir data"
   ]
  },
  {
   "cell_type": "code",
   "execution_count": null,
   "metadata": {
    "id": "bX3nem-eNjez"
   },
   "outputs": [],
   "source": [
    "##Extract OMI data from aws\n",
    "!python src/data/extract_omi.py --data_dir data --stage test --path_satmeta data/raw/no2_satellite_metadata_0AF3h09.csv --s3url us_url --n_jobs 16 --cleanup \n"
   ]
  },
  {
   "cell_type": "code",
   "execution_count": null,
   "metadata": {
    "id": "66ElGrF6jRht"
   },
   "outputs": [],
   "source": [
    "##Extract TROPOMI data from aws\n",
    "!python src/data/extract_tropomi.py --data_dir data --stage test --path_satmeta data/raw/no2_satellite_metadata_0AF3h09.csv --n_jobs 32 --s3url eu_url --cleanup\n"
   ]
  },
  {
   "cell_type": "code",
   "execution_count": null,
   "metadata": {
    "id": "E4Ywqhi8Bjnp"
   },
   "outputs": [],
   "source": [
    "##Extract GFS data\n",
    "!python src/data/extract_gfs.py --data_dir data --stage test --labels data/raw/submission_format.csv --n_jobs 16 \n"
   ]
  },
  {
   "cell_type": "code",
   "execution_count": null,
   "metadata": {
    "id": "USWfHMWnzhoj"
   },
   "outputs": [],
   "source": [
    "#Extract GEOS-CF assim/ hindcasts\n",
    "!python src/data/extract_geos.py --data_dir data --stage test --labels data/raw/submission_format.csv --n_jobs 16 --cleanup\n"
   ]
  },
  {
   "cell_type": "code",
   "execution_count": null,
   "metadata": {
    "id": "HNO50EY21JtJ"
   },
   "outputs": [],
   "source": [
    "##Create final datasets\n",
    "!python src/data/create_dataset.py --data_dir data --stage test --labels data/raw/submission_format.csv --n_gfs 4 --n_jobs 4\n",
    "!python src/data/create_dataset.py --data_dir data --stage test --labels data/raw/submission_format.csv --n_gfs 8 --n_jobs 4\n"
   ]
  },
  {
   "cell_type": "code",
   "execution_count": 4,
   "metadata": {
    "id": "I_EfG4IrL_2y"
   },
   "outputs": [
    {
     "name": "stdout",
     "output_type": "stream",
     "text": [
      "##### RUNNING INFERENCE FOR DATASET 4 ##########\n",
      "location 1, fold: 0, samples:9039 -1.3086308540208944,85.84097443756393\n",
      "location 1, fold: 1, samples:9039 1.3227494610029182,86.75342403499477\n",
      "location 1, fold: 2, samples:9039 0.9476462334107484,90.677970080773\n",
      "location 1, fold: 3, samples:9039 1.5892019918606524,83.38416210372954\n",
      "location 1, fold: 4, samples:9039 1.1394554092224045,91.68092102825328\n",
      "location 0, fold: 0, samples:6101 27.685396676551242,45.31313166518444\n",
      "location 0, fold: 1, samples:6101 2.250265243003705,173.43266428507548\n",
      "location 0, fold: 2, samples:6101 5.965683571466004,170.33404809650006\n",
      "location 0, fold: 3, samples:6101 1.9782714174272003,89.7031106138768\n",
      "location 0, fold: 4, samples:6101 -0.4313881431634161,141.0351004091582\n",
      "location 2, fold: 0, samples:1210 7.165770550360431,79.5884776108299\n",
      "location 2, fold: 1, samples:1210 7.313860446364859,77.87823924901241\n",
      "location 2, fold: 2, samples:1210 8.21021735456596,82.89169942766979\n",
      "location 2, fold: 3, samples:1210 7.357065328582037,73.46655974761565\n",
      "location 2, fold: 4, samples:1210 11.417166520699501,59.60036839662351\n",
      "##### RUNNING INFERENCE FOR DATASET 8 ##########\n",
      "location 1, fold: 0, samples:9039 1.926360451198328,84.31110547764065\n",
      "location 1, fold: 1, samples:9039 1.587133679280446,84.74618679619967\n",
      "location 1, fold: 2, samples:9039 1.9382402624104071,89.59582020558791\n",
      "location 1, fold: 3, samples:9039 1.0240403830685958,83.28406940979242\n",
      "location 1, fold: 4, samples:9039 1.6510235601281322,86.76449272319941\n",
      "location 0, fold: 0, samples:6101 27.84905919318635,44.80370656065242\n",
      "location 0, fold: 1, samples:6101 6.498603515065148,171.66986754792393\n",
      "location 0, fold: 2, samples:6101 1.2763700051088203,177.8500153372064\n",
      "location 0, fold: 3, samples:6101 1.8821229473210468,97.39966517099359\n",
      "location 0, fold: 4, samples:6101 2.3862454397041595,150.94737853490938\n",
      "location 2, fold: 0, samples:1210 6.425451341393336,74.85535829821868\n",
      "location 2, fold: 1, samples:1210 8.151286627296273,64.76554804196299\n",
      "location 2, fold: 2, samples:1210 7.521554973365806,78.12143121524731\n",
      "location 2, fold: 3, samples:1210 7.085879359811705,77.24149156254276\n",
      "location 2, fold: 4, samples:1210 7.850623970086281,66.95510609349752\n",
      "predictions range:  1.8735154527500502 125.58579234805097\n",
      "Written predictions to Submission.csv\n"
     ]
    }
   ],
   "source": [
    "##Generate predictions - Writes test set predictions to Submission.csv\n",
    "!python src/inference.py --data_dir data --model_dir models --stage test --subformat_path data/raw/submission_format.csv --output_path Submission.csv \n"
   ]
  }
 ],
 "metadata": {
  "colab": {
   "collapsed_sections": [],
   "name": "airt-no2-test.ipynb",
   "provenance": []
  },
  "kernelspec": {
   "display_name": "Python 3 (ipykernel)",
   "language": "python",
   "name": "python3"
  },
  "language_info": {
   "codemirror_mode": {
    "name": "ipython",
    "version": 3
   },
   "file_extension": ".py",
   "mimetype": "text/x-python",
   "name": "python",
   "nbconvert_exporter": "python",
   "pygments_lexer": "ipython3",
   "version": "3.7.13"
  }
 },
 "nbformat": 4,
 "nbformat_minor": 1
}
