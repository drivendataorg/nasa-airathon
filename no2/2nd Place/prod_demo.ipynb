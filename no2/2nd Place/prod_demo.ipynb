{
  "cells": [
    {
      "cell_type": "code",
      "execution_count": 4,
      "metadata": {
        "id": "Cp3J8uo213H3"
      },
      "outputs": [],
      "source": [
        "import pandas as pd\n",
        "DATA_DIR = 'data'\n",
        "df_satmeta = pd.read_csv(f'{DATA_DIR}/raw/verification_no2_satellite_metadata.csv')\n",
        "\n",
        "OOS_START_TIME = '2021-12-01'\n",
        "OOS_END_TIME = '2022-02-28'\n",
        "\n",
        "# no Taipei in OOS set\n",
        "df_satmeta = df_satmeta[(df_satmeta.location.isin(['la','dl','dl-la-tpe'])) & (df_satmeta.time_start >= OOS_START_TIME) & (df_satmeta.time_end <= OOS_END_TIME)].copy()\n",
        "df_satmeta['split'] = 'prod'\n",
        "\n",
        "df_satmeta.to_csv(f'{DATA_DIR}/raw/prod_satellite_metadata.csv',index=False)"
      ]
    },
    {
      "cell_type": "markdown",
      "metadata": {
        "id": "d17DBL_5poZc"
      },
      "source": [
        "## Preprocessing"
      ]
    },
    {
      "cell_type": "code",
      "execution_count": null,
      "metadata": {
        "colab": {
          "base_uri": "https://localhost:8080/"
        },
        "id": "VFPqlDnti3jA",
        "outputId": "e144dfbe-b43e-485b-f55a-ff6a912f0cc8"
      },
      "outputs": [],
      "source": [
        "##Extract NASADEM elevation data (Rerun required only if grid_metadata changes)\n",
        "!python src/data/extract_nasadem.py --data_dir data"
      ]
    },
    {
      "cell_type": "code",
      "execution_count": null,
      "metadata": {
        "colab": {
          "base_uri": "https://localhost:8080/"
        },
        "id": "bX3nem-eNjez",
        "outputId": "54810bc9-909e-44fd-f797-cbfd400a2442"
      },
      "outputs": [],
      "source": [
        "##Extract OMI data from aws\n",
        "!python src/data/extract_omi.py --data_dir data --stage prod --path_satmeta data/raw/prod_satellite_metadata.csv --s3url us_url --n_jobs 16 --cleanup\n"
      ]
    },
    {
      "cell_type": "code",
      "execution_count": null,
      "metadata": {
        "colab": {
          "base_uri": "https://localhost:8080/"
        },
        "id": "66ElGrF6jRht",
        "outputId": "985b04df-34a3-4e70-ead6-96510ad0cdf7"
      },
      "outputs": [],
      "source": [
        "##Extract TROPOMI data from aws\n",
        "!python src/data/extract_tropomi.py --data_dir data --stage prod --path_satmeta data/raw/prod_satellite_metadata.csv --n_jobs 36 --s3url us_url --cleanup"
      ]
    },
    {
      "cell_type": "code",
      "execution_count": null,
      "metadata": {
        "colab": {
          "base_uri": "https://localhost:8080/"
        },
        "id": "E4Ywqhi8Bjnp",
        "outputId": "104f0b85-9159-46c3-ab15-19f0b93f4383"
      },
      "outputs": [],
      "source": [
        "##Extract GFS\n",
        "!python src/data/extract_gfs.py --data_dir data --stage prod --labels data/raw/verification_submission_format.csv --n_jobs 16 "
      ]
    },
    {
      "cell_type": "code",
      "execution_count": null,
      "metadata": {
        "colab": {
          "base_uri": "https://localhost:8080/"
        },
        "id": "USWfHMWnzhoj",
        "outputId": "c2b25e7b-8954-4013-a4f8-6974233dcd6a"
      },
      "outputs": [],
      "source": [
        "#Extract GEOS-CF assim/ hindcasts\n",
        "!python src/data/extract_geos.py --data_dir data --stage prod --labels data/raw/verification_submission_format.csv --n_jobs 16 --cleanup"
      ]
    },
    {
      "cell_type": "code",
      "execution_count": null,
      "metadata": {
        "colab": {
          "base_uri": "https://localhost:8080/"
        },
        "id": "HNO50EY21JtJ",
        "outputId": "548b7761-cea3-459e-fbe1-92c1c15f2e21"
      },
      "outputs": [],
      "source": [
        "##Create final datasets\n",
        "!python src/data/create_dataset.py --data_dir data --stage prod --labels data/raw/verification_submission_format.csv --n_gfs 4 --n_jobs 4\n",
        "!python src/data/create_dataset.py --data_dir data --stage prod --labels data/raw/verification_submission_format.csv --n_gfs 8 --n_jobs 4"
      ]
    },
    {
      "cell_type": "markdown",
      "metadata": {
        "id": "ZjQchyHEpv8H"
      },
      "source": [
        "## Inference"
      ]
    },
    {
      "cell_type": "code",
      "execution_count": 5,
      "metadata": {
        "colab": {
          "base_uri": "https://localhost:8080/"
        },
        "id": "H0LeBzVC_VN0",
        "outputId": "0db27b87-6a50-487c-9d6b-7c3fcd41b2e9"
      },
      "outputs": [
        {
          "name": "stdout",
          "output_type": "stream",
          "text": [
            "##### RUNNING INFERENCE FOR DATASET 4 ##########\n",
            "location 1, fold: 0, samples:2306 2.416080049538193,86.68116929505692\n",
            "location 1, fold: 1, samples:2306 3.1778854470227937,85.36251786057521\n",
            "location 1, fold: 2, samples:2306 4.1313135452888154,86.85468343121879\n",
            "location 1, fold: 3, samples:2306 3.62490460036303,84.23517508150746\n",
            "location 1, fold: 4, samples:2306 2.3528884683674107,87.63833605879296\n",
            "location 0, fold: 0, samples:1984 27.613664223250293,45.31313166518444\n",
            "location 0, fold: 1, samples:1984 10.708023444303041,161.5020416167969\n",
            "location 0, fold: 2, samples:1984 11.70420376058811,144.08035565742892\n",
            "location 0, fold: 3, samples:1984 8.158849312689393,89.20481232783683\n",
            "location 0, fold: 4, samples:1984 2.147182756286284,138.7456536657473\n",
            "##### RUNNING INFERENCE FOR DATASET 8 ##########\n",
            "location 1, fold: 0, samples:2306 3.344374875931946,87.10580686218174\n",
            "location 1, fold: 1, samples:2306 3.6090656002898074,86.41092580792994\n",
            "location 1, fold: 2, samples:2306 2.9837239585172224,88.00837356801365\n",
            "location 1, fold: 3, samples:2306 3.4635966262427655,88.30585437359518\n",
            "location 1, fold: 4, samples:2306 1.1962284782968997,85.80561276250101\n",
            "location 0, fold: 0, samples:1984 27.93793331832067,44.79217764540536\n",
            "location 0, fold: 1, samples:1984 7.139063324031777,142.9078201207158\n",
            "location 0, fold: 2, samples:1984 6.683516740715509,146.11157831186392\n",
            "location 0, fold: 3, samples:1984 9.978060129524309,96.00919687966247\n",
            "location 0, fold: 4, samples:1984 4.27861429978049,143.77656907234734\n",
            "predictions range:  3.5709391842962965 110.04263318466366\n",
            "Written predictions to prod_predictions.csv\n"
          ]
        }
      ],
      "source": [
        "##Generate predictions \n",
        "!python src/inference.py --data_dir data --model_dir models --stage prod --subformat_path data/raw/verification_submission_format.csv --output_path prod_predictions.csv "
      ]
    },
    {
      "cell_type": "code",
      "execution_count": 6,
      "metadata": {
        "colab": {
          "base_uri": "https://localhost:8080/",
          "height": 896
        },
        "id": "zBMFPhmw_201",
        "outputId": "9fa35f5c-0a50-43b2-b6e2-c4bf5aaa47d5"
      },
      "outputs": [
        {
          "data": {
            "text/html": [
              "<div>\n",
              "<style scoped>\n",
              "    .dataframe tbody tr th:only-of-type {\n",
              "        vertical-align: middle;\n",
              "    }\n",
              "\n",
              "    .dataframe tbody tr th {\n",
              "        vertical-align: top;\n",
              "    }\n",
              "\n",
              "    .dataframe thead th {\n",
              "        text-align: right;\n",
              "    }\n",
              "</style>\n",
              "<table border=\"1\" class=\"dataframe\">\n",
              "  <thead>\n",
              "    <tr style=\"text-align: right;\">\n",
              "      <th></th>\n",
              "      <th>datetime</th>\n",
              "      <th>grid_id</th>\n",
              "      <th>value</th>\n",
              "    </tr>\n",
              "  </thead>\n",
              "  <tbody>\n",
              "    <tr>\n",
              "      <th>0</th>\n",
              "      <td>2021-12-01T08:00:00Z</td>\n",
              "      <td>3A3IE</td>\n",
              "      <td>48.172999</td>\n",
              "    </tr>\n",
              "    <tr>\n",
              "      <th>1</th>\n",
              "      <td>2021-12-01T08:00:00Z</td>\n",
              "      <td>3S31A</td>\n",
              "      <td>61.153832</td>\n",
              "    </tr>\n",
              "    <tr>\n",
              "      <th>2</th>\n",
              "      <td>2021-12-01T08:00:00Z</td>\n",
              "      <td>7II4T</td>\n",
              "      <td>67.784498</td>\n",
              "    </tr>\n",
              "    <tr>\n",
              "      <th>3</th>\n",
              "      <td>2021-12-01T08:00:00Z</td>\n",
              "      <td>8BOQH</td>\n",
              "      <td>51.707428</td>\n",
              "    </tr>\n",
              "    <tr>\n",
              "      <th>4</th>\n",
              "      <td>2021-12-01T08:00:00Z</td>\n",
              "      <td>A2FBI</td>\n",
              "      <td>59.895220</td>\n",
              "    </tr>\n",
              "    <tr>\n",
              "      <th>...</th>\n",
              "      <td>...</td>\n",
              "      <td>...</td>\n",
              "      <td>...</td>\n",
              "    </tr>\n",
              "    <tr>\n",
              "      <th>4285</th>\n",
              "      <td>2022-02-27T08:00:00Z</td>\n",
              "      <td>WT52R</td>\n",
              "      <td>15.102103</td>\n",
              "    </tr>\n",
              "    <tr>\n",
              "      <th>4286</th>\n",
              "      <td>2022-02-27T08:00:00Z</td>\n",
              "      <td>X5DKW</td>\n",
              "      <td>48.900358</td>\n",
              "    </tr>\n",
              "    <tr>\n",
              "      <th>4287</th>\n",
              "      <td>2022-02-27T08:00:00Z</td>\n",
              "      <td>Z0VWC</td>\n",
              "      <td>40.340837</td>\n",
              "    </tr>\n",
              "    <tr>\n",
              "      <th>4288</th>\n",
              "      <td>2022-02-27T08:00:00Z</td>\n",
              "      <td>ZP1FZ</td>\n",
              "      <td>10.098105</td>\n",
              "    </tr>\n",
              "    <tr>\n",
              "      <th>4289</th>\n",
              "      <td>2022-02-27T08:00:00Z</td>\n",
              "      <td>ZZ8JF</td>\n",
              "      <td>16.756454</td>\n",
              "    </tr>\n",
              "  </tbody>\n",
              "</table>\n",
              "<p>4290 rows × 3 columns</p>\n",
              "</div>"
            ],
            "text/plain": [
              "                  datetime grid_id      value\n",
              "0     2021-12-01T08:00:00Z   3A3IE  48.172999\n",
              "1     2021-12-01T08:00:00Z   3S31A  61.153832\n",
              "2     2021-12-01T08:00:00Z   7II4T  67.784498\n",
              "3     2021-12-01T08:00:00Z   8BOQH  51.707428\n",
              "4     2021-12-01T08:00:00Z   A2FBI  59.895220\n",
              "...                    ...     ...        ...\n",
              "4285  2022-02-27T08:00:00Z   WT52R  15.102103\n",
              "4286  2022-02-27T08:00:00Z   X5DKW  48.900358\n",
              "4287  2022-02-27T08:00:00Z   Z0VWC  40.340837\n",
              "4288  2022-02-27T08:00:00Z   ZP1FZ  10.098105\n",
              "4289  2022-02-27T08:00:00Z   ZZ8JF  16.756454\n",
              "\n",
              "[4290 rows x 3 columns]"
            ]
          },
          "execution_count": 6,
          "metadata": {},
          "output_type": "execute_result"
        }
      ],
      "source": [
        "pred = pd.read_csv('prod_predictions.csv')\n",
        "pred"
      ]
    },
    {
      "cell_type": "code",
      "execution_count": null,
      "metadata": {
        "id": "Q3vMVI0ZJ4HR"
      },
      "outputs": [],
      "source": []
    }
  ],
  "metadata": {
    "colab": {
      "collapsed_sections": [],
      "name": " airt-no2-prod demo.ipynb",
      "provenance": []
    },
    "interpreter": {
      "hash": "af9501fc74fe6e40fad117f664a0d0009d5eafaa8c2d8d12d4670dbf03338fe2"
    },
    "kernelspec": {
      "display_name": "Python 3.9.12 ('3rd')",
      "language": "python",
      "name": "python3"
    },
    "language_info": {
      "codemirror_mode": {
        "name": "ipython",
        "version": 3
      },
      "file_extension": ".py",
      "mimetype": "text/x-python",
      "name": "python",
      "nbconvert_exporter": "python",
      "pygments_lexer": "ipython3",
      "version": "3.9.12"
    }
  },
  "nbformat": 4,
  "nbformat_minor": 0
}
